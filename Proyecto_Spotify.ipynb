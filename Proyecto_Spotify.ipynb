{
  "nbformat": 4,
  "nbformat_minor": 0,
  "metadata": {
    "colab": {
      "provenance": []
    },
    "kernelspec": {
      "name": "python3",
      "display_name": "Python 3"
    },
    "language_info": {
      "name": "python"
    }
  },
  "cells": [
    {
      "cell_type": "markdown",
      "source": [
        "##Librerías"
      ],
      "metadata": {
        "id": "JR3f7gOaplh6"
      }
    },
    {
      "cell_type": "code",
      "execution_count": 1,
      "metadata": {
        "id": "SeIAn4UIojng"
      },
      "outputs": [],
      "source": [
        "import re \n",
        "from datetime import datetime\n",
        "\n",
        "import numpy as np \n",
        "import pandas as pd\n",
        "pd.set_option('display.max_columns', 100)\n",
        "\n",
        "from scipy import stats \n",
        "\n",
        "import matplotlib.pyplot as plt\n",
        "import seaborn as sns\n",
        "import plotly.express as px"
      ]
    },
    {
      "cell_type": "markdown",
      "source": [
        "## Conexión"
      ],
      "metadata": {
        "id": "cBDvuNDcpu0h"
      }
    },
    {
      "cell_type": "code",
      "source": [
        "from google.colab import drive \n",
        "drive.mount('/content/drive')"
      ],
      "metadata": {
        "colab": {
          "base_uri": "https://localhost:8080/"
        },
        "id": "cTa3AEwHpsgy",
        "outputId": "d70fe246-6d4d-42e3-faef-5f50bf2084b8"
      },
      "execution_count": 2,
      "outputs": [
        {
          "output_type": "stream",
          "name": "stdout",
          "text": [
            "Mounted at /content/drive\n"
          ]
        }
      ]
    },
    {
      "cell_type": "markdown",
      "source": [
        "## About Dataset"
      ],
      "metadata": {
        "id": "ODYf2WXnumo6"
      }
    },
    {
      "cell_type": "markdown",
      "source": [
        "**Context**\n",
        "\n",
        "This dataset contains audio statistics of the top 2000 tracks on Spotify. The data contains about 15 columns each describing the track and it's qualities. Songs released from 1956 to 2019 are included from some notable and famous artists like Queen, The Beatles, Guns N' Roses, etc.\n",
        "http://sortyourmusic.playlistmachinery.com/ by @plamere uses Spotify API to extract the audio features from the tracks given the Spotify Playlist URI. This data contains audio features like Danceability, BPM, Liveness, Valence(Positivity) and many more.\n",
        "Each feature's description has been given in detail below.\n",
        "\n",
        "\n",
        "**Content**\n",
        "\n",
        "Index: ID\n",
        "\n",
        "*   Title: Name of the Track\n",
        "*   Artist: Name of the ArtistElemento de la lista\n",
        "*   Top Genre: Genre of the track\n",
        "*   Year: Release Year of the track\n",
        "*   Beats per Minute(BPM): The tempo of the song\n",
        "*   Energy: The energy of a song - the higher the value, the more energtic.\n",
        "*   Top Genre: Genre of the track\n",
        "*   Danceability: The higher the value, the easier it is to dance to this song.\n",
        "*   Loudness: The higher the value, the louder the song.\n",
        "*   Valence: The higher the value, the more positive mood for the song.\n",
        "*   Length: The duration of the song.\n",
        "*   Acoustic: The higher the value the more acoustic the song is.\n",
        "*   Speechiness: The higher the value the more spoken words the song contains\n",
        "*   Popularity: The higher the value the more popular the song is.\n",
        "\n",
        "\n",
        "\n",
        "**Source**\n",
        "\n",
        "https://www.kaggle.com/datasets/iamsumat/spotify-top-2000s-mega-dataset"
      ],
      "metadata": {
        "id": "XOrcK9uruwe2"
      }
    },
    {
      "cell_type": "markdown",
      "source": [
        "## Exploración y limpieza"
      ],
      "metadata": {
        "id": "srTMWLmsqEws"
      }
    },
    {
      "cell_type": "code",
      "source": [
        "df = pd.read_csv('/content/drive/MyDrive/Spotify-2000.csv', index_col='Index')"
      ],
      "metadata": {
        "id": "ETKeMdyoqKXr"
      },
      "execution_count": 3,
      "outputs": []
    },
    {
      "cell_type": "code",
      "source": [
        "df.head(5)"
      ],
      "metadata": {
        "colab": {
          "base_uri": "https://localhost:8080/",
          "height": 237
        },
        "id": "wtG_bJJ-qJtE",
        "outputId": "bfe0f074-4253-4a69-ff4f-484e1f73f374"
      },
      "execution_count": 4,
      "outputs": [
        {
          "output_type": "execute_result",
          "data": {
            "text/plain": [
              "                        Title             Artist            Top Genre  Year  \\\n",
              "Index                                                                         \n",
              "1                     Sunrise        Norah Jones      adult standards  2004   \n",
              "2                 Black Night        Deep Purple           album rock  2000   \n",
              "3              Clint Eastwood           Gorillaz  alternative hip hop  2001   \n",
              "4               The Pretender       Foo Fighters    alternative metal  2007   \n",
              "5      Waitin' On A Sunny Day  Bruce Springsteen         classic rock  2002   \n",
              "\n",
              "       Beats Per Minute (BPM)  Energy  Danceability  Loudness (dB)  Liveness  \\\n",
              "Index                                                                          \n",
              "1                         157      30            53            -14        11   \n",
              "2                         135      79            50            -11        17   \n",
              "3                         168      69            66             -9         7   \n",
              "4                         173      96            43             -4         3   \n",
              "5                         106      82            58             -5        10   \n",
              "\n",
              "       Valence Length (Duration)  Acousticness  Speechiness  Popularity  \n",
              "Index                                                                    \n",
              "1           68               201            94            3          71  \n",
              "2           81               207            17            7          39  \n",
              "3           52               341             2           17          69  \n",
              "4           37               269             0            4          76  \n",
              "5           87               256             1            3          59  "
            ],
            "text/html": [
              "\n",
              "  <div id=\"df-589ae4b0-4ed9-4a53-b482-ed2175576784\">\n",
              "    <div class=\"colab-df-container\">\n",
              "      <div>\n",
              "<style scoped>\n",
              "    .dataframe tbody tr th:only-of-type {\n",
              "        vertical-align: middle;\n",
              "    }\n",
              "\n",
              "    .dataframe tbody tr th {\n",
              "        vertical-align: top;\n",
              "    }\n",
              "\n",
              "    .dataframe thead th {\n",
              "        text-align: right;\n",
              "    }\n",
              "</style>\n",
              "<table border=\"1\" class=\"dataframe\">\n",
              "  <thead>\n",
              "    <tr style=\"text-align: right;\">\n",
              "      <th></th>\n",
              "      <th>Title</th>\n",
              "      <th>Artist</th>\n",
              "      <th>Top Genre</th>\n",
              "      <th>Year</th>\n",
              "      <th>Beats Per Minute (BPM)</th>\n",
              "      <th>Energy</th>\n",
              "      <th>Danceability</th>\n",
              "      <th>Loudness (dB)</th>\n",
              "      <th>Liveness</th>\n",
              "      <th>Valence</th>\n",
              "      <th>Length (Duration)</th>\n",
              "      <th>Acousticness</th>\n",
              "      <th>Speechiness</th>\n",
              "      <th>Popularity</th>\n",
              "    </tr>\n",
              "    <tr>\n",
              "      <th>Index</th>\n",
              "      <th></th>\n",
              "      <th></th>\n",
              "      <th></th>\n",
              "      <th></th>\n",
              "      <th></th>\n",
              "      <th></th>\n",
              "      <th></th>\n",
              "      <th></th>\n",
              "      <th></th>\n",
              "      <th></th>\n",
              "      <th></th>\n",
              "      <th></th>\n",
              "      <th></th>\n",
              "      <th></th>\n",
              "    </tr>\n",
              "  </thead>\n",
              "  <tbody>\n",
              "    <tr>\n",
              "      <th>1</th>\n",
              "      <td>Sunrise</td>\n",
              "      <td>Norah Jones</td>\n",
              "      <td>adult standards</td>\n",
              "      <td>2004</td>\n",
              "      <td>157</td>\n",
              "      <td>30</td>\n",
              "      <td>53</td>\n",
              "      <td>-14</td>\n",
              "      <td>11</td>\n",
              "      <td>68</td>\n",
              "      <td>201</td>\n",
              "      <td>94</td>\n",
              "      <td>3</td>\n",
              "      <td>71</td>\n",
              "    </tr>\n",
              "    <tr>\n",
              "      <th>2</th>\n",
              "      <td>Black Night</td>\n",
              "      <td>Deep Purple</td>\n",
              "      <td>album rock</td>\n",
              "      <td>2000</td>\n",
              "      <td>135</td>\n",
              "      <td>79</td>\n",
              "      <td>50</td>\n",
              "      <td>-11</td>\n",
              "      <td>17</td>\n",
              "      <td>81</td>\n",
              "      <td>207</td>\n",
              "      <td>17</td>\n",
              "      <td>7</td>\n",
              "      <td>39</td>\n",
              "    </tr>\n",
              "    <tr>\n",
              "      <th>3</th>\n",
              "      <td>Clint Eastwood</td>\n",
              "      <td>Gorillaz</td>\n",
              "      <td>alternative hip hop</td>\n",
              "      <td>2001</td>\n",
              "      <td>168</td>\n",
              "      <td>69</td>\n",
              "      <td>66</td>\n",
              "      <td>-9</td>\n",
              "      <td>7</td>\n",
              "      <td>52</td>\n",
              "      <td>341</td>\n",
              "      <td>2</td>\n",
              "      <td>17</td>\n",
              "      <td>69</td>\n",
              "    </tr>\n",
              "    <tr>\n",
              "      <th>4</th>\n",
              "      <td>The Pretender</td>\n",
              "      <td>Foo Fighters</td>\n",
              "      <td>alternative metal</td>\n",
              "      <td>2007</td>\n",
              "      <td>173</td>\n",
              "      <td>96</td>\n",
              "      <td>43</td>\n",
              "      <td>-4</td>\n",
              "      <td>3</td>\n",
              "      <td>37</td>\n",
              "      <td>269</td>\n",
              "      <td>0</td>\n",
              "      <td>4</td>\n",
              "      <td>76</td>\n",
              "    </tr>\n",
              "    <tr>\n",
              "      <th>5</th>\n",
              "      <td>Waitin' On A Sunny Day</td>\n",
              "      <td>Bruce Springsteen</td>\n",
              "      <td>classic rock</td>\n",
              "      <td>2002</td>\n",
              "      <td>106</td>\n",
              "      <td>82</td>\n",
              "      <td>58</td>\n",
              "      <td>-5</td>\n",
              "      <td>10</td>\n",
              "      <td>87</td>\n",
              "      <td>256</td>\n",
              "      <td>1</td>\n",
              "      <td>3</td>\n",
              "      <td>59</td>\n",
              "    </tr>\n",
              "  </tbody>\n",
              "</table>\n",
              "</div>\n",
              "      <button class=\"colab-df-convert\" onclick=\"convertToInteractive('df-589ae4b0-4ed9-4a53-b482-ed2175576784')\"\n",
              "              title=\"Convert this dataframe to an interactive table.\"\n",
              "              style=\"display:none;\">\n",
              "        \n",
              "  <svg xmlns=\"http://www.w3.org/2000/svg\" height=\"24px\"viewBox=\"0 0 24 24\"\n",
              "       width=\"24px\">\n",
              "    <path d=\"M0 0h24v24H0V0z\" fill=\"none\"/>\n",
              "    <path d=\"M18.56 5.44l.94 2.06.94-2.06 2.06-.94-2.06-.94-.94-2.06-.94 2.06-2.06.94zm-11 1L8.5 8.5l.94-2.06 2.06-.94-2.06-.94L8.5 2.5l-.94 2.06-2.06.94zm10 10l.94 2.06.94-2.06 2.06-.94-2.06-.94-.94-2.06-.94 2.06-2.06.94z\"/><path d=\"M17.41 7.96l-1.37-1.37c-.4-.4-.92-.59-1.43-.59-.52 0-1.04.2-1.43.59L10.3 9.45l-7.72 7.72c-.78.78-.78 2.05 0 2.83L4 21.41c.39.39.9.59 1.41.59.51 0 1.02-.2 1.41-.59l7.78-7.78 2.81-2.81c.8-.78.8-2.07 0-2.86zM5.41 20L4 18.59l7.72-7.72 1.47 1.35L5.41 20z\"/>\n",
              "  </svg>\n",
              "      </button>\n",
              "      \n",
              "  <style>\n",
              "    .colab-df-container {\n",
              "      display:flex;\n",
              "      flex-wrap:wrap;\n",
              "      gap: 12px;\n",
              "    }\n",
              "\n",
              "    .colab-df-convert {\n",
              "      background-color: #E8F0FE;\n",
              "      border: none;\n",
              "      border-radius: 50%;\n",
              "      cursor: pointer;\n",
              "      display: none;\n",
              "      fill: #1967D2;\n",
              "      height: 32px;\n",
              "      padding: 0 0 0 0;\n",
              "      width: 32px;\n",
              "    }\n",
              "\n",
              "    .colab-df-convert:hover {\n",
              "      background-color: #E2EBFA;\n",
              "      box-shadow: 0px 1px 2px rgba(60, 64, 67, 0.3), 0px 1px 3px 1px rgba(60, 64, 67, 0.15);\n",
              "      fill: #174EA6;\n",
              "    }\n",
              "\n",
              "    [theme=dark] .colab-df-convert {\n",
              "      background-color: #3B4455;\n",
              "      fill: #D2E3FC;\n",
              "    }\n",
              "\n",
              "    [theme=dark] .colab-df-convert:hover {\n",
              "      background-color: #434B5C;\n",
              "      box-shadow: 0px 1px 3px 1px rgba(0, 0, 0, 0.15);\n",
              "      filter: drop-shadow(0px 1px 2px rgba(0, 0, 0, 0.3));\n",
              "      fill: #FFFFFF;\n",
              "    }\n",
              "  </style>\n",
              "\n",
              "      <script>\n",
              "        const buttonEl =\n",
              "          document.querySelector('#df-589ae4b0-4ed9-4a53-b482-ed2175576784 button.colab-df-convert');\n",
              "        buttonEl.style.display =\n",
              "          google.colab.kernel.accessAllowed ? 'block' : 'none';\n",
              "\n",
              "        async function convertToInteractive(key) {\n",
              "          const element = document.querySelector('#df-589ae4b0-4ed9-4a53-b482-ed2175576784');\n",
              "          const dataTable =\n",
              "            await google.colab.kernel.invokeFunction('convertToInteractive',\n",
              "                                                     [key], {});\n",
              "          if (!dataTable) return;\n",
              "\n",
              "          const docLinkHtml = 'Like what you see? Visit the ' +\n",
              "            '<a target=\"_blank\" href=https://colab.research.google.com/notebooks/data_table.ipynb>data table notebook</a>'\n",
              "            + ' to learn more about interactive tables.';\n",
              "          element.innerHTML = '';\n",
              "          dataTable['output_type'] = 'display_data';\n",
              "          await google.colab.output.renderOutput(dataTable, element);\n",
              "          const docLink = document.createElement('div');\n",
              "          docLink.innerHTML = docLinkHtml;\n",
              "          element.appendChild(docLink);\n",
              "        }\n",
              "      </script>\n",
              "    </div>\n",
              "  </div>\n",
              "  "
            ]
          },
          "metadata": {},
          "execution_count": 4
        }
      ]
    },
    {
      "cell_type": "markdown",
      "source": [
        "**Realizamos la revisión general de las variables y tipos de datos**"
      ],
      "metadata": {
        "id": "gus8CZRLGOYu"
      }
    },
    {
      "cell_type": "code",
      "source": [
        "df.info()"
      ],
      "metadata": {
        "colab": {
          "base_uri": "https://localhost:8080/"
        },
        "id": "OCRrupynqjcI",
        "outputId": "56b38e64-83db-4c4d-c3dd-b4953d7aaad0"
      },
      "execution_count": 5,
      "outputs": [
        {
          "output_type": "stream",
          "name": "stdout",
          "text": [
            "<class 'pandas.core.frame.DataFrame'>\n",
            "Int64Index: 1994 entries, 1 to 1994\n",
            "Data columns (total 14 columns):\n",
            " #   Column                  Non-Null Count  Dtype \n",
            "---  ------                  --------------  ----- \n",
            " 0   Title                   1994 non-null   object\n",
            " 1   Artist                  1994 non-null   object\n",
            " 2   Top Genre               1994 non-null   object\n",
            " 3   Year                    1994 non-null   int64 \n",
            " 4   Beats Per Minute (BPM)  1994 non-null   int64 \n",
            " 5   Energy                  1994 non-null   int64 \n",
            " 6   Danceability            1994 non-null   int64 \n",
            " 7   Loudness (dB)           1994 non-null   int64 \n",
            " 8   Liveness                1994 non-null   int64 \n",
            " 9   Valence                 1994 non-null   int64 \n",
            " 10  Length (Duration)       1994 non-null   object\n",
            " 11  Acousticness            1994 non-null   int64 \n",
            " 12  Speechiness             1994 non-null   int64 \n",
            " 13  Popularity              1994 non-null   int64 \n",
            "dtypes: int64(10), object(4)\n",
            "memory usage: 233.7+ KB\n"
          ]
        }
      ]
    },
    {
      "cell_type": "markdown",
      "source": [
        "**En el cuadro anterior podemos notar que la columna \"Duration\" es del tipo \"Object\", pero esta contiene información numérica, para poder utilizarla de manera correcta la cambiaremos a \"Int\".**"
      ],
      "metadata": {
        "id": "XjZMG4gxk7KI"
      }
    },
    {
      "cell_type": "markdown",
      "source": [
        "- Como primer paso, eliminaremos las comas para poder realizar la transformación de los datos."
      ],
      "metadata": {
        "id": "GQ21gspQHNcW"
      }
    },
    {
      "cell_type": "code",
      "source": [
        "df['Length (Duration)'] = df['Length (Duration)'].apply(lambda x: int(x.replace(',', '')))"
      ],
      "metadata": {
        "id": "QAry8iYHoP4O"
      },
      "execution_count": 7,
      "outputs": []
    },
    {
      "cell_type": "code",
      "source": [
        "df['Length (Duration)'].astype(float).astype('Int64')"
      ],
      "metadata": {
        "colab": {
          "base_uri": "https://localhost:8080/"
        },
        "id": "BkBMD78rnEqD",
        "outputId": "40f9e841-2755-47ff-f3c8-d5dc8f46c549"
      },
      "execution_count": 8,
      "outputs": [
        {
          "output_type": "execute_result",
          "data": {
            "text/plain": [
              "Index\n",
              "1       201\n",
              "2       207\n",
              "3       341\n",
              "4       269\n",
              "5       256\n",
              "       ... \n",
              "1990    128\n",
              "1991    136\n",
              "1992    162\n",
              "1993    324\n",
              "1994    148\n",
              "Name: Length (Duration), Length: 1994, dtype: Int64"
            ]
          },
          "metadata": {},
          "execution_count": 8
        }
      ]
    },
    {
      "cell_type": "markdown",
      "source": [
        "**Confirmamos que el cambio se haya realizado correctamente.**"
      ],
      "metadata": {
        "id": "z2fhrSB5HcC2"
      }
    },
    {
      "cell_type": "code",
      "source": [
        "df.info()"
      ],
      "metadata": {
        "id": "jnAW0q2KpFP3",
        "colab": {
          "base_uri": "https://localhost:8080/"
        },
        "outputId": "78d936da-f86f-41b9-91d6-0bee1f3669fd"
      },
      "execution_count": 9,
      "outputs": [
        {
          "output_type": "stream",
          "name": "stdout",
          "text": [
            "<class 'pandas.core.frame.DataFrame'>\n",
            "Int64Index: 1994 entries, 1 to 1994\n",
            "Data columns (total 14 columns):\n",
            " #   Column                  Non-Null Count  Dtype \n",
            "---  ------                  --------------  ----- \n",
            " 0   Title                   1994 non-null   object\n",
            " 1   Artist                  1994 non-null   object\n",
            " 2   Top Genre               1994 non-null   object\n",
            " 3   Year                    1994 non-null   int64 \n",
            " 4   Beats Per Minute (BPM)  1994 non-null   int64 \n",
            " 5   Energy                  1994 non-null   int64 \n",
            " 6   Danceability            1994 non-null   int64 \n",
            " 7   Loudness (dB)           1994 non-null   int64 \n",
            " 8   Liveness                1994 non-null   int64 \n",
            " 9   Valence                 1994 non-null   int64 \n",
            " 10  Length (Duration)       1994 non-null   int64 \n",
            " 11  Acousticness            1994 non-null   int64 \n",
            " 12  Speechiness             1994 non-null   int64 \n",
            " 13  Popularity              1994 non-null   int64 \n",
            "dtypes: int64(11), object(3)\n",
            "memory usage: 233.7+ KB\n"
          ]
        }
      ]
    },
    {
      "cell_type": "markdown",
      "source": [
        "**Realizamos una exploración más detallada de los elementos únicos de algunas variables**"
      ],
      "metadata": {
        "id": "H_DG8TaeHnL1"
      }
    },
    {
      "cell_type": "code",
      "source": [
        "df.columns"
      ],
      "metadata": {
        "colab": {
          "base_uri": "https://localhost:8080/"
        },
        "id": "Sx0OKyy6r5Bt",
        "outputId": "95082dc6-4458-4a6c-8a1c-ba20c520d808"
      },
      "execution_count": 10,
      "outputs": [
        {
          "output_type": "execute_result",
          "data": {
            "text/plain": [
              "Index(['Title', 'Artist', 'Top Genre', 'Year', 'Beats Per Minute (BPM)',\n",
              "       'Energy', 'Danceability', 'Loudness (dB)', 'Liveness', 'Valence',\n",
              "       'Length (Duration)', 'Acousticness', 'Speechiness', 'Popularity'],\n",
              "      dtype='object')"
            ]
          },
          "metadata": {},
          "execution_count": 10
        }
      ]
    },
    {
      "cell_type": "code",
      "source": [
        "df.Year.unique()"
      ],
      "metadata": {
        "colab": {
          "base_uri": "https://localhost:8080/"
        },
        "id": "Uyga5TfI7RLy",
        "outputId": "c159ae77-7094-477a-bc42-446b264ee216"
      },
      "execution_count": 11,
      "outputs": [
        {
          "output_type": "execute_result",
          "data": {
            "text/plain": [
              "array([2004, 2000, 2001, 2007, 2002, 2006, 2003, 2005, 2009, 2008, 2010,\n",
              "       2011, 2012, 2013, 2014, 2015, 2016, 2017, 2018, 2019, 1970, 1971,\n",
              "       1972, 1973, 1974, 1975, 1976, 1977, 1978, 1979, 1980, 1981, 1982,\n",
              "       1983, 1984, 1985, 1986, 1987, 1988, 1989, 1990, 1991, 1992, 1993,\n",
              "       1994, 1995, 1996, 1997, 1998, 1999, 1960, 1961, 1962, 1963, 1964,\n",
              "       1965, 1966, 1967, 1968, 1969, 1956, 1958, 1959])"
            ]
          },
          "metadata": {},
          "execution_count": 11
        }
      ]
    },
    {
      "cell_type": "code",
      "source": [
        "len(df.Year.unique())"
      ],
      "metadata": {
        "colab": {
          "base_uri": "https://localhost:8080/"
        },
        "id": "8-78ooKOH-oq",
        "outputId": "67f0cf99-4a63-4e56-9368-64ed887488c1"
      },
      "execution_count": 58,
      "outputs": [
        {
          "output_type": "execute_result",
          "data": {
            "text/plain": [
              "63"
            ]
          },
          "metadata": {},
          "execution_count": 58
        }
      ]
    },
    {
      "cell_type": "code",
      "source": [
        "df['Top Genre'].unique()"
      ],
      "metadata": {
        "id": "iyTjH7eA7Rp1",
        "colab": {
          "base_uri": "https://localhost:8080/"
        },
        "outputId": "cfc2f1a8-7324-4f21-dd77-b1f49892b4d9"
      },
      "execution_count": 60,
      "outputs": [
        {
          "output_type": "execute_result",
          "data": {
            "text/plain": [
              "array(['adult standards', 'album rock', 'alternative hip hop',\n",
              "       'alternative metal', 'classic rock', 'alternative pop rock', 'pop',\n",
              "       'modern rock', 'detroit hip hop', 'alternative rock',\n",
              "       'dutch indie', 'garage rock', 'dutch cabaret', 'permanent wave',\n",
              "       'classic uk pop', 'dance pop', 'modern folk rock', 'dutch pop',\n",
              "       'dutch americana', 'alternative dance', 'german pop', 'afropop',\n",
              "       'british soul', 'irish rock', 'disco', 'big room', 'art rock',\n",
              "       'danish pop rock', 'neo mellow', 'britpop', 'boy band',\n",
              "       'carnaval limburg', 'arkansas country', 'latin alternative',\n",
              "       'british folk', 'celtic', 'chanson', 'celtic rock', 'hip pop',\n",
              "       'east coast hip hop', 'dutch rock', 'blues rock', 'electro',\n",
              "       'australian pop', 'belgian rock', 'downtempo', 'reggae fusion',\n",
              "       'british invasion', 'finnish metal', 'canadian pop', 'bow pop',\n",
              "       'dutch hip hop', 'dutch metal', 'soft rock', 'acoustic pop',\n",
              "       'acid jazz', 'dutch prog', 'candy pop', 'operatic pop', 'trance',\n",
              "       'scottish singer-songwriter', 'mellow gold', 'alternative pop',\n",
              "       'dance rock', 'atl hip hop', 'eurodance', 'blues', 'canadian folk',\n",
              "       'big beat', 'art pop', 'uk pop', 'glam metal',\n",
              "       'brill building pop', 'g funk', 'happy hardcore', 'belgian pop',\n",
              "       'classic schlager', 'contemporary country', 'barbadian pop',\n",
              "       'gabba', 'chamber pop', 'british singer-songwriter', 'indie pop',\n",
              "       'australian rock', 'nederpop', 'australian indie folk', 'folk-pop',\n",
              "       'electropop', 'edm', 'metropopolis', 'irish pop', 'electronica',\n",
              "       'alaska indie', 'irish singer-songwriter', 'stomp and holler',\n",
              "       'australian dance', 'australian psych', 'laboratorio',\n",
              "       'contemporary vocal jazz', 'rock-and-roll', 'glam rock',\n",
              "       'classic soundtrack', 'icelandic indie', 'danish pop',\n",
              "       'compositional ambient', 'neo soul', 'streektaal', 'italian pop',\n",
              "       'indie anthem-folk', 'la pop', 'baroque pop', 'ccm',\n",
              "       'electro house', 'austropop', 'australian americana', 'latin',\n",
              "       'chicago soul', 'classic soul', 'bubblegum pop',\n",
              "       'classic country pop', 'europop', 'hard rock', 'reggae', 'j-core',\n",
              "       'funk', 'folk', 'punk', 'basshall', 'australian alternative rock',\n",
              "       'yacht rock', 'alternative country', 'celtic punk', 'new wave pop',\n",
              "       'classic canadian rock', 'christelijk', 'levenslied', 'cyberpunk',\n",
              "       'gangster rap', 'diva house', 'classical rock', 'canadian rock',\n",
              "       'german pop rock', 'british alternative rock', 'latin jazz',\n",
              "       'german alternative rock', 'classic italian pop', 'pop punk',\n",
              "       'motown', 'bebop'], dtype=object)"
            ]
          },
          "metadata": {},
          "execution_count": 60
        }
      ]
    },
    {
      "cell_type": "code",
      "source": [
        "len(df.Year.unique())"
      ],
      "metadata": {
        "colab": {
          "base_uri": "https://localhost:8080/"
        },
        "id": "c7JCXrqEIKD0",
        "outputId": "a153bb2f-0834-4038-d608-1f03df9b7141"
      },
      "execution_count": 61,
      "outputs": [
        {
          "output_type": "execute_result",
          "data": {
            "text/plain": [
              "63"
            ]
          },
          "metadata": {},
          "execution_count": 61
        }
      ]
    },
    {
      "cell_type": "code",
      "source": [
        "df['Beats Per Minute (BPM)'].unique()"
      ],
      "metadata": {
        "colab": {
          "base_uri": "https://localhost:8080/"
        },
        "id": "awX6ZDrU8h0m",
        "outputId": "098f93c3-7d31-470d-bc5e-6d1669920946"
      },
      "execution_count": 13,
      "outputs": [
        {
          "output_type": "execute_result",
          "data": {
            "text/plain": [
              "array([157, 135, 168, 173, 106,  99, 102, 137, 148, 112, 109, 124, 117,\n",
              "       133, 123, 127,  87,  74, 138, 142,  96, 130, 154, 146, 181,  80,\n",
              "        88, 122, 119, 156, 152,  72, 118, 105, 186, 100, 115,  75, 131,\n",
              "        76, 108, 194,  90, 149,  92, 132,  86, 166, 176, 103, 136,  81,\n",
              "        77, 171, 183, 178, 139, 101, 110, 104, 159, 160,  83,  79, 120,\n",
              "       145, 128,  61, 162,  93, 107, 177,  94,  68, 129, 193,  85, 125,\n",
              "       126, 165,  58,  91,  89, 141, 121,  97,  98, 190, 164, 114, 170,\n",
              "       147, 180, 116, 144,  70, 174,  95, 179, 113, 169, 111, 175, 184,\n",
              "        73, 150, 134,  67, 143, 205,  78, 140, 151,  82, 153, 182, 172,\n",
              "       199, 155,  84,  71, 167, 161,  49, 189, 158, 163,  69, 198, 197,\n",
              "       203,  60,  37,  64, 200, 188, 204, 196, 191, 185, 206,  54,  66,\n",
              "        65,  63])"
            ]
          },
          "metadata": {},
          "execution_count": 13
        }
      ]
    },
    {
      "cell_type": "code",
      "source": [
        "len(df['Beats Per Minute (BPM)'].unique())"
      ],
      "metadata": {
        "colab": {
          "base_uri": "https://localhost:8080/"
        },
        "id": "rkEveFifINa7",
        "outputId": "5af7396e-1219-4fcc-c15a-75c819b0d102"
      },
      "execution_count": 62,
      "outputs": [
        {
          "output_type": "execute_result",
          "data": {
            "text/plain": [
              "145"
            ]
          },
          "metadata": {},
          "execution_count": 62
        }
      ]
    },
    {
      "cell_type": "code",
      "source": [
        "df.select_dtypes('number')"
      ],
      "metadata": {
        "colab": {
          "base_uri": "https://localhost:8080/",
          "height": 454
        },
        "id": "8LkvH_NG92lg",
        "outputId": "0f7017de-7b37-4989-ef9f-cad73277bccc"
      },
      "execution_count": 15,
      "outputs": [
        {
          "output_type": "execute_result",
          "data": {
            "text/plain": [
              "       Year  Beats Per Minute (BPM)  Energy  Danceability  Loudness (dB)  \\\n",
              "Index                                                                      \n",
              "1      2004                     157      30            53            -14   \n",
              "2      2000                     135      79            50            -11   \n",
              "3      2001                     168      69            66             -9   \n",
              "4      2007                     173      96            43             -4   \n",
              "5      2002                     106      82            58             -5   \n",
              "...     ...                     ...     ...           ...            ...   \n",
              "1990   1958                      94      21            70            -12   \n",
              "1991   1958                     175      76            36             -8   \n",
              "1992   1959                     168      80            53             -9   \n",
              "1993   1959                     174      26            45            -13   \n",
              "1994   1959                     133      50            49            -10   \n",
              "\n",
              "       Liveness  Valence  Length (Duration)  Acousticness  Speechiness  \\\n",
              "Index                                                                    \n",
              "1            11       68                201            94            3   \n",
              "2            17       81                207            17            7   \n",
              "3             7       52                341             2           17   \n",
              "4             3       37                269             0            4   \n",
              "5            10       87                256             1            3   \n",
              "...         ...      ...                ...           ...          ...   \n",
              "1990         11       72                128            84            7   \n",
              "1991         76       95                136            73            6   \n",
              "1992         31       97                162            74            7   \n",
              "1993          7       60                324            54            4   \n",
              "1994         16       83                148            74            3   \n",
              "\n",
              "       Popularity  \n",
              "Index              \n",
              "1              71  \n",
              "2              39  \n",
              "3              69  \n",
              "4              76  \n",
              "5              59  \n",
              "...           ...  \n",
              "1990           63  \n",
              "1991           69  \n",
              "1992           74  \n",
              "1993           65  \n",
              "1994           56  \n",
              "\n",
              "[1994 rows x 11 columns]"
            ],
            "text/html": [
              "\n",
              "  <div id=\"df-a5894e3f-4d38-4ede-84de-b4766362cb0d\">\n",
              "    <div class=\"colab-df-container\">\n",
              "      <div>\n",
              "<style scoped>\n",
              "    .dataframe tbody tr th:only-of-type {\n",
              "        vertical-align: middle;\n",
              "    }\n",
              "\n",
              "    .dataframe tbody tr th {\n",
              "        vertical-align: top;\n",
              "    }\n",
              "\n",
              "    .dataframe thead th {\n",
              "        text-align: right;\n",
              "    }\n",
              "</style>\n",
              "<table border=\"1\" class=\"dataframe\">\n",
              "  <thead>\n",
              "    <tr style=\"text-align: right;\">\n",
              "      <th></th>\n",
              "      <th>Year</th>\n",
              "      <th>Beats Per Minute (BPM)</th>\n",
              "      <th>Energy</th>\n",
              "      <th>Danceability</th>\n",
              "      <th>Loudness (dB)</th>\n",
              "      <th>Liveness</th>\n",
              "      <th>Valence</th>\n",
              "      <th>Length (Duration)</th>\n",
              "      <th>Acousticness</th>\n",
              "      <th>Speechiness</th>\n",
              "      <th>Popularity</th>\n",
              "    </tr>\n",
              "    <tr>\n",
              "      <th>Index</th>\n",
              "      <th></th>\n",
              "      <th></th>\n",
              "      <th></th>\n",
              "      <th></th>\n",
              "      <th></th>\n",
              "      <th></th>\n",
              "      <th></th>\n",
              "      <th></th>\n",
              "      <th></th>\n",
              "      <th></th>\n",
              "      <th></th>\n",
              "    </tr>\n",
              "  </thead>\n",
              "  <tbody>\n",
              "    <tr>\n",
              "      <th>1</th>\n",
              "      <td>2004</td>\n",
              "      <td>157</td>\n",
              "      <td>30</td>\n",
              "      <td>53</td>\n",
              "      <td>-14</td>\n",
              "      <td>11</td>\n",
              "      <td>68</td>\n",
              "      <td>201</td>\n",
              "      <td>94</td>\n",
              "      <td>3</td>\n",
              "      <td>71</td>\n",
              "    </tr>\n",
              "    <tr>\n",
              "      <th>2</th>\n",
              "      <td>2000</td>\n",
              "      <td>135</td>\n",
              "      <td>79</td>\n",
              "      <td>50</td>\n",
              "      <td>-11</td>\n",
              "      <td>17</td>\n",
              "      <td>81</td>\n",
              "      <td>207</td>\n",
              "      <td>17</td>\n",
              "      <td>7</td>\n",
              "      <td>39</td>\n",
              "    </tr>\n",
              "    <tr>\n",
              "      <th>3</th>\n",
              "      <td>2001</td>\n",
              "      <td>168</td>\n",
              "      <td>69</td>\n",
              "      <td>66</td>\n",
              "      <td>-9</td>\n",
              "      <td>7</td>\n",
              "      <td>52</td>\n",
              "      <td>341</td>\n",
              "      <td>2</td>\n",
              "      <td>17</td>\n",
              "      <td>69</td>\n",
              "    </tr>\n",
              "    <tr>\n",
              "      <th>4</th>\n",
              "      <td>2007</td>\n",
              "      <td>173</td>\n",
              "      <td>96</td>\n",
              "      <td>43</td>\n",
              "      <td>-4</td>\n",
              "      <td>3</td>\n",
              "      <td>37</td>\n",
              "      <td>269</td>\n",
              "      <td>0</td>\n",
              "      <td>4</td>\n",
              "      <td>76</td>\n",
              "    </tr>\n",
              "    <tr>\n",
              "      <th>5</th>\n",
              "      <td>2002</td>\n",
              "      <td>106</td>\n",
              "      <td>82</td>\n",
              "      <td>58</td>\n",
              "      <td>-5</td>\n",
              "      <td>10</td>\n",
              "      <td>87</td>\n",
              "      <td>256</td>\n",
              "      <td>1</td>\n",
              "      <td>3</td>\n",
              "      <td>59</td>\n",
              "    </tr>\n",
              "    <tr>\n",
              "      <th>...</th>\n",
              "      <td>...</td>\n",
              "      <td>...</td>\n",
              "      <td>...</td>\n",
              "      <td>...</td>\n",
              "      <td>...</td>\n",
              "      <td>...</td>\n",
              "      <td>...</td>\n",
              "      <td>...</td>\n",
              "      <td>...</td>\n",
              "      <td>...</td>\n",
              "      <td>...</td>\n",
              "    </tr>\n",
              "    <tr>\n",
              "      <th>1990</th>\n",
              "      <td>1958</td>\n",
              "      <td>94</td>\n",
              "      <td>21</td>\n",
              "      <td>70</td>\n",
              "      <td>-12</td>\n",
              "      <td>11</td>\n",
              "      <td>72</td>\n",
              "      <td>128</td>\n",
              "      <td>84</td>\n",
              "      <td>7</td>\n",
              "      <td>63</td>\n",
              "    </tr>\n",
              "    <tr>\n",
              "      <th>1991</th>\n",
              "      <td>1958</td>\n",
              "      <td>175</td>\n",
              "      <td>76</td>\n",
              "      <td>36</td>\n",
              "      <td>-8</td>\n",
              "      <td>76</td>\n",
              "      <td>95</td>\n",
              "      <td>136</td>\n",
              "      <td>73</td>\n",
              "      <td>6</td>\n",
              "      <td>69</td>\n",
              "    </tr>\n",
              "    <tr>\n",
              "      <th>1992</th>\n",
              "      <td>1959</td>\n",
              "      <td>168</td>\n",
              "      <td>80</td>\n",
              "      <td>53</td>\n",
              "      <td>-9</td>\n",
              "      <td>31</td>\n",
              "      <td>97</td>\n",
              "      <td>162</td>\n",
              "      <td>74</td>\n",
              "      <td>7</td>\n",
              "      <td>74</td>\n",
              "    </tr>\n",
              "    <tr>\n",
              "      <th>1993</th>\n",
              "      <td>1959</td>\n",
              "      <td>174</td>\n",
              "      <td>26</td>\n",
              "      <td>45</td>\n",
              "      <td>-13</td>\n",
              "      <td>7</td>\n",
              "      <td>60</td>\n",
              "      <td>324</td>\n",
              "      <td>54</td>\n",
              "      <td>4</td>\n",
              "      <td>65</td>\n",
              "    </tr>\n",
              "    <tr>\n",
              "      <th>1994</th>\n",
              "      <td>1959</td>\n",
              "      <td>133</td>\n",
              "      <td>50</td>\n",
              "      <td>49</td>\n",
              "      <td>-10</td>\n",
              "      <td>16</td>\n",
              "      <td>83</td>\n",
              "      <td>148</td>\n",
              "      <td>74</td>\n",
              "      <td>3</td>\n",
              "      <td>56</td>\n",
              "    </tr>\n",
              "  </tbody>\n",
              "</table>\n",
              "<p>1994 rows × 11 columns</p>\n",
              "</div>\n",
              "      <button class=\"colab-df-convert\" onclick=\"convertToInteractive('df-a5894e3f-4d38-4ede-84de-b4766362cb0d')\"\n",
              "              title=\"Convert this dataframe to an interactive table.\"\n",
              "              style=\"display:none;\">\n",
              "        \n",
              "  <svg xmlns=\"http://www.w3.org/2000/svg\" height=\"24px\"viewBox=\"0 0 24 24\"\n",
              "       width=\"24px\">\n",
              "    <path d=\"M0 0h24v24H0V0z\" fill=\"none\"/>\n",
              "    <path d=\"M18.56 5.44l.94 2.06.94-2.06 2.06-.94-2.06-.94-.94-2.06-.94 2.06-2.06.94zm-11 1L8.5 8.5l.94-2.06 2.06-.94-2.06-.94L8.5 2.5l-.94 2.06-2.06.94zm10 10l.94 2.06.94-2.06 2.06-.94-2.06-.94-.94-2.06-.94 2.06-2.06.94z\"/><path d=\"M17.41 7.96l-1.37-1.37c-.4-.4-.92-.59-1.43-.59-.52 0-1.04.2-1.43.59L10.3 9.45l-7.72 7.72c-.78.78-.78 2.05 0 2.83L4 21.41c.39.39.9.59 1.41.59.51 0 1.02-.2 1.41-.59l7.78-7.78 2.81-2.81c.8-.78.8-2.07 0-2.86zM5.41 20L4 18.59l7.72-7.72 1.47 1.35L5.41 20z\"/>\n",
              "  </svg>\n",
              "      </button>\n",
              "      \n",
              "  <style>\n",
              "    .colab-df-container {\n",
              "      display:flex;\n",
              "      flex-wrap:wrap;\n",
              "      gap: 12px;\n",
              "    }\n",
              "\n",
              "    .colab-df-convert {\n",
              "      background-color: #E8F0FE;\n",
              "      border: none;\n",
              "      border-radius: 50%;\n",
              "      cursor: pointer;\n",
              "      display: none;\n",
              "      fill: #1967D2;\n",
              "      height: 32px;\n",
              "      padding: 0 0 0 0;\n",
              "      width: 32px;\n",
              "    }\n",
              "\n",
              "    .colab-df-convert:hover {\n",
              "      background-color: #E2EBFA;\n",
              "      box-shadow: 0px 1px 2px rgba(60, 64, 67, 0.3), 0px 1px 3px 1px rgba(60, 64, 67, 0.15);\n",
              "      fill: #174EA6;\n",
              "    }\n",
              "\n",
              "    [theme=dark] .colab-df-convert {\n",
              "      background-color: #3B4455;\n",
              "      fill: #D2E3FC;\n",
              "    }\n",
              "\n",
              "    [theme=dark] .colab-df-convert:hover {\n",
              "      background-color: #434B5C;\n",
              "      box-shadow: 0px 1px 3px 1px rgba(0, 0, 0, 0.15);\n",
              "      filter: drop-shadow(0px 1px 2px rgba(0, 0, 0, 0.3));\n",
              "      fill: #FFFFFF;\n",
              "    }\n",
              "  </style>\n",
              "\n",
              "      <script>\n",
              "        const buttonEl =\n",
              "          document.querySelector('#df-a5894e3f-4d38-4ede-84de-b4766362cb0d button.colab-df-convert');\n",
              "        buttonEl.style.display =\n",
              "          google.colab.kernel.accessAllowed ? 'block' : 'none';\n",
              "\n",
              "        async function convertToInteractive(key) {\n",
              "          const element = document.querySelector('#df-a5894e3f-4d38-4ede-84de-b4766362cb0d');\n",
              "          const dataTable =\n",
              "            await google.colab.kernel.invokeFunction('convertToInteractive',\n",
              "                                                     [key], {});\n",
              "          if (!dataTable) return;\n",
              "\n",
              "          const docLinkHtml = 'Like what you see? Visit the ' +\n",
              "            '<a target=\"_blank\" href=https://colab.research.google.com/notebooks/data_table.ipynb>data table notebook</a>'\n",
              "            + ' to learn more about interactive tables.';\n",
              "          element.innerHTML = '';\n",
              "          dataTable['output_type'] = 'display_data';\n",
              "          await google.colab.output.renderOutput(dataTable, element);\n",
              "          const docLink = document.createElement('div');\n",
              "          docLink.innerHTML = docLinkHtml;\n",
              "          element.appendChild(docLink);\n",
              "        }\n",
              "      </script>\n",
              "    </div>\n",
              "  </div>\n",
              "  "
            ]
          },
          "metadata": {},
          "execution_count": 15
        }
      ]
    },
    {
      "cell_type": "markdown",
      "source": [
        "## \bAnálisis de datos"
      ],
      "metadata": {
        "id": "3GtnxsAr8Y0z"
      }
    },
    {
      "cell_type": "markdown",
      "source": [
        "###Creación de Subsets"
      ],
      "metadata": {
        "id": "Jwfjx0A0Nv64"
      }
    },
    {
      "cell_type": "markdown",
      "source": [
        "**Agrupamos los datos por año y obtenemos los promedios de las variables numéricas**"
      ],
      "metadata": {
        "id": "MgpWa-nJKP9R"
      }
    },
    {
      "cell_type": "code",
      "source": [
        "df_avg = df.groupby('Year', as_index=False).mean([ 'Beats Per Minute (BPM)',\t\n",
        "                                         'Energy',\t'Danceability',\t\n",
        "                                         'Loudness (dB)',\t'Liveness',\t\n",
        "                                         'Valence', 'Length (Duration)',\t'Acousticness',\t\n",
        "                                         'Speechiness',\t'Popularity'\n",
        "])"
      ],
      "metadata": {
        "id": "uv2K1-Hl8bjn"
      },
      "execution_count": 21,
      "outputs": []
    },
    {
      "cell_type": "code",
      "source": [
        "df_avg"
      ],
      "metadata": {
        "id": "RyaYQPzH-oHx",
        "colab": {
          "base_uri": "https://localhost:8080/",
          "height": 424
        },
        "outputId": "cb5a801e-18b3-4a8c-c8d0-f05e316ffd30"
      },
      "execution_count": 22,
      "outputs": [
        {
          "output_type": "execute_result",
          "data": {
            "text/plain": [
              "    Year  Beats Per Minute (BPM)     Energy  Danceability  Loudness (dB)  \\\n",
              "0   1956               95.000000  66.000000     56.000000      -8.000000   \n",
              "1   1958              144.600000  37.200000     52.600000     -13.200000   \n",
              "2   1959              158.333333  52.000000     49.000000     -10.666667   \n",
              "3   1960               87.000000  35.000000     27.000000      -9.000000   \n",
              "4   1961              100.000000  29.000000     40.000000     -14.000000   \n",
              "..   ...                     ...        ...           ...            ...   \n",
              "58  2015              121.880952  62.000000     52.928571      -7.452381   \n",
              "59  2016              121.285714  52.742857     53.285714      -8.714286   \n",
              "60  2017              118.777778  63.333333     56.333333      -6.977778   \n",
              "61  2018              116.865385  60.750000     54.980769      -7.576923   \n",
              "62  2019              117.047619  58.666667     56.380952      -8.142857   \n",
              "\n",
              "     Liveness    Valence  Length (Duration)  Acousticness  Speechiness  \\\n",
              "0   14.000000  96.000000         119.000000     65.000000     6.000000   \n",
              "1   23.400000  62.400000         184.800000     74.600000     7.200000   \n",
              "2   18.000000  80.000000         211.333333     67.333333     4.666667   \n",
              "3   33.000000  33.000000         180.000000     55.000000     3.000000   \n",
              "4   11.000000  34.000000         182.000000     94.000000     3.000000   \n",
              "..        ...        ...                ...           ...          ...   \n",
              "58  21.595238  43.238095         246.023810     24.428571     5.357143   \n",
              "59  15.057143  39.714286         278.085714     31.771429     4.400000   \n",
              "60  17.888889  45.733333         257.111111     24.355556     6.600000   \n",
              "61  17.788462  50.423077         217.903846     26.192308     5.326923   \n",
              "62  20.809524  47.523810         246.761905     34.571429     6.857143   \n",
              "\n",
              "    Popularity  \n",
              "0    62.000000  \n",
              "1    67.800000  \n",
              "2    65.000000  \n",
              "3    74.000000  \n",
              "4    78.000000  \n",
              "..         ...  \n",
              "58   53.500000  \n",
              "59   57.342857  \n",
              "60   62.800000  \n",
              "61   49.865385  \n",
              "62   63.952381  \n",
              "\n",
              "[63 rows x 11 columns]"
            ],
            "text/html": [
              "\n",
              "  <div id=\"df-9e927fa6-9f51-451d-8aad-69861772cb9d\">\n",
              "    <div class=\"colab-df-container\">\n",
              "      <div>\n",
              "<style scoped>\n",
              "    .dataframe tbody tr th:only-of-type {\n",
              "        vertical-align: middle;\n",
              "    }\n",
              "\n",
              "    .dataframe tbody tr th {\n",
              "        vertical-align: top;\n",
              "    }\n",
              "\n",
              "    .dataframe thead th {\n",
              "        text-align: right;\n",
              "    }\n",
              "</style>\n",
              "<table border=\"1\" class=\"dataframe\">\n",
              "  <thead>\n",
              "    <tr style=\"text-align: right;\">\n",
              "      <th></th>\n",
              "      <th>Year</th>\n",
              "      <th>Beats Per Minute (BPM)</th>\n",
              "      <th>Energy</th>\n",
              "      <th>Danceability</th>\n",
              "      <th>Loudness (dB)</th>\n",
              "      <th>Liveness</th>\n",
              "      <th>Valence</th>\n",
              "      <th>Length (Duration)</th>\n",
              "      <th>Acousticness</th>\n",
              "      <th>Speechiness</th>\n",
              "      <th>Popularity</th>\n",
              "    </tr>\n",
              "  </thead>\n",
              "  <tbody>\n",
              "    <tr>\n",
              "      <th>0</th>\n",
              "      <td>1956</td>\n",
              "      <td>95.000000</td>\n",
              "      <td>66.000000</td>\n",
              "      <td>56.000000</td>\n",
              "      <td>-8.000000</td>\n",
              "      <td>14.000000</td>\n",
              "      <td>96.000000</td>\n",
              "      <td>119.000000</td>\n",
              "      <td>65.000000</td>\n",
              "      <td>6.000000</td>\n",
              "      <td>62.000000</td>\n",
              "    </tr>\n",
              "    <tr>\n",
              "      <th>1</th>\n",
              "      <td>1958</td>\n",
              "      <td>144.600000</td>\n",
              "      <td>37.200000</td>\n",
              "      <td>52.600000</td>\n",
              "      <td>-13.200000</td>\n",
              "      <td>23.400000</td>\n",
              "      <td>62.400000</td>\n",
              "      <td>184.800000</td>\n",
              "      <td>74.600000</td>\n",
              "      <td>7.200000</td>\n",
              "      <td>67.800000</td>\n",
              "    </tr>\n",
              "    <tr>\n",
              "      <th>2</th>\n",
              "      <td>1959</td>\n",
              "      <td>158.333333</td>\n",
              "      <td>52.000000</td>\n",
              "      <td>49.000000</td>\n",
              "      <td>-10.666667</td>\n",
              "      <td>18.000000</td>\n",
              "      <td>80.000000</td>\n",
              "      <td>211.333333</td>\n",
              "      <td>67.333333</td>\n",
              "      <td>4.666667</td>\n",
              "      <td>65.000000</td>\n",
              "    </tr>\n",
              "    <tr>\n",
              "      <th>3</th>\n",
              "      <td>1960</td>\n",
              "      <td>87.000000</td>\n",
              "      <td>35.000000</td>\n",
              "      <td>27.000000</td>\n",
              "      <td>-9.000000</td>\n",
              "      <td>33.000000</td>\n",
              "      <td>33.000000</td>\n",
              "      <td>180.000000</td>\n",
              "      <td>55.000000</td>\n",
              "      <td>3.000000</td>\n",
              "      <td>74.000000</td>\n",
              "    </tr>\n",
              "    <tr>\n",
              "      <th>4</th>\n",
              "      <td>1961</td>\n",
              "      <td>100.000000</td>\n",
              "      <td>29.000000</td>\n",
              "      <td>40.000000</td>\n",
              "      <td>-14.000000</td>\n",
              "      <td>11.000000</td>\n",
              "      <td>34.000000</td>\n",
              "      <td>182.000000</td>\n",
              "      <td>94.000000</td>\n",
              "      <td>3.000000</td>\n",
              "      <td>78.000000</td>\n",
              "    </tr>\n",
              "    <tr>\n",
              "      <th>...</th>\n",
              "      <td>...</td>\n",
              "      <td>...</td>\n",
              "      <td>...</td>\n",
              "      <td>...</td>\n",
              "      <td>...</td>\n",
              "      <td>...</td>\n",
              "      <td>...</td>\n",
              "      <td>...</td>\n",
              "      <td>...</td>\n",
              "      <td>...</td>\n",
              "      <td>...</td>\n",
              "    </tr>\n",
              "    <tr>\n",
              "      <th>58</th>\n",
              "      <td>2015</td>\n",
              "      <td>121.880952</td>\n",
              "      <td>62.000000</td>\n",
              "      <td>52.928571</td>\n",
              "      <td>-7.452381</td>\n",
              "      <td>21.595238</td>\n",
              "      <td>43.238095</td>\n",
              "      <td>246.023810</td>\n",
              "      <td>24.428571</td>\n",
              "      <td>5.357143</td>\n",
              "      <td>53.500000</td>\n",
              "    </tr>\n",
              "    <tr>\n",
              "      <th>59</th>\n",
              "      <td>2016</td>\n",
              "      <td>121.285714</td>\n",
              "      <td>52.742857</td>\n",
              "      <td>53.285714</td>\n",
              "      <td>-8.714286</td>\n",
              "      <td>15.057143</td>\n",
              "      <td>39.714286</td>\n",
              "      <td>278.085714</td>\n",
              "      <td>31.771429</td>\n",
              "      <td>4.400000</td>\n",
              "      <td>57.342857</td>\n",
              "    </tr>\n",
              "    <tr>\n",
              "      <th>60</th>\n",
              "      <td>2017</td>\n",
              "      <td>118.777778</td>\n",
              "      <td>63.333333</td>\n",
              "      <td>56.333333</td>\n",
              "      <td>-6.977778</td>\n",
              "      <td>17.888889</td>\n",
              "      <td>45.733333</td>\n",
              "      <td>257.111111</td>\n",
              "      <td>24.355556</td>\n",
              "      <td>6.600000</td>\n",
              "      <td>62.800000</td>\n",
              "    </tr>\n",
              "    <tr>\n",
              "      <th>61</th>\n",
              "      <td>2018</td>\n",
              "      <td>116.865385</td>\n",
              "      <td>60.750000</td>\n",
              "      <td>54.980769</td>\n",
              "      <td>-7.576923</td>\n",
              "      <td>17.788462</td>\n",
              "      <td>50.423077</td>\n",
              "      <td>217.903846</td>\n",
              "      <td>26.192308</td>\n",
              "      <td>5.326923</td>\n",
              "      <td>49.865385</td>\n",
              "    </tr>\n",
              "    <tr>\n",
              "      <th>62</th>\n",
              "      <td>2019</td>\n",
              "      <td>117.047619</td>\n",
              "      <td>58.666667</td>\n",
              "      <td>56.380952</td>\n",
              "      <td>-8.142857</td>\n",
              "      <td>20.809524</td>\n",
              "      <td>47.523810</td>\n",
              "      <td>246.761905</td>\n",
              "      <td>34.571429</td>\n",
              "      <td>6.857143</td>\n",
              "      <td>63.952381</td>\n",
              "    </tr>\n",
              "  </tbody>\n",
              "</table>\n",
              "<p>63 rows × 11 columns</p>\n",
              "</div>\n",
              "      <button class=\"colab-df-convert\" onclick=\"convertToInteractive('df-9e927fa6-9f51-451d-8aad-69861772cb9d')\"\n",
              "              title=\"Convert this dataframe to an interactive table.\"\n",
              "              style=\"display:none;\">\n",
              "        \n",
              "  <svg xmlns=\"http://www.w3.org/2000/svg\" height=\"24px\"viewBox=\"0 0 24 24\"\n",
              "       width=\"24px\">\n",
              "    <path d=\"M0 0h24v24H0V0z\" fill=\"none\"/>\n",
              "    <path d=\"M18.56 5.44l.94 2.06.94-2.06 2.06-.94-2.06-.94-.94-2.06-.94 2.06-2.06.94zm-11 1L8.5 8.5l.94-2.06 2.06-.94-2.06-.94L8.5 2.5l-.94 2.06-2.06.94zm10 10l.94 2.06.94-2.06 2.06-.94-2.06-.94-.94-2.06-.94 2.06-2.06.94z\"/><path d=\"M17.41 7.96l-1.37-1.37c-.4-.4-.92-.59-1.43-.59-.52 0-1.04.2-1.43.59L10.3 9.45l-7.72 7.72c-.78.78-.78 2.05 0 2.83L4 21.41c.39.39.9.59 1.41.59.51 0 1.02-.2 1.41-.59l7.78-7.78 2.81-2.81c.8-.78.8-2.07 0-2.86zM5.41 20L4 18.59l7.72-7.72 1.47 1.35L5.41 20z\"/>\n",
              "  </svg>\n",
              "      </button>\n",
              "      \n",
              "  <style>\n",
              "    .colab-df-container {\n",
              "      display:flex;\n",
              "      flex-wrap:wrap;\n",
              "      gap: 12px;\n",
              "    }\n",
              "\n",
              "    .colab-df-convert {\n",
              "      background-color: #E8F0FE;\n",
              "      border: none;\n",
              "      border-radius: 50%;\n",
              "      cursor: pointer;\n",
              "      display: none;\n",
              "      fill: #1967D2;\n",
              "      height: 32px;\n",
              "      padding: 0 0 0 0;\n",
              "      width: 32px;\n",
              "    }\n",
              "\n",
              "    .colab-df-convert:hover {\n",
              "      background-color: #E2EBFA;\n",
              "      box-shadow: 0px 1px 2px rgba(60, 64, 67, 0.3), 0px 1px 3px 1px rgba(60, 64, 67, 0.15);\n",
              "      fill: #174EA6;\n",
              "    }\n",
              "\n",
              "    [theme=dark] .colab-df-convert {\n",
              "      background-color: #3B4455;\n",
              "      fill: #D2E3FC;\n",
              "    }\n",
              "\n",
              "    [theme=dark] .colab-df-convert:hover {\n",
              "      background-color: #434B5C;\n",
              "      box-shadow: 0px 1px 3px 1px rgba(0, 0, 0, 0.15);\n",
              "      filter: drop-shadow(0px 1px 2px rgba(0, 0, 0, 0.3));\n",
              "      fill: #FFFFFF;\n",
              "    }\n",
              "  </style>\n",
              "\n",
              "      <script>\n",
              "        const buttonEl =\n",
              "          document.querySelector('#df-9e927fa6-9f51-451d-8aad-69861772cb9d button.colab-df-convert');\n",
              "        buttonEl.style.display =\n",
              "          google.colab.kernel.accessAllowed ? 'block' : 'none';\n",
              "\n",
              "        async function convertToInteractive(key) {\n",
              "          const element = document.querySelector('#df-9e927fa6-9f51-451d-8aad-69861772cb9d');\n",
              "          const dataTable =\n",
              "            await google.colab.kernel.invokeFunction('convertToInteractive',\n",
              "                                                     [key], {});\n",
              "          if (!dataTable) return;\n",
              "\n",
              "          const docLinkHtml = 'Like what you see? Visit the ' +\n",
              "            '<a target=\"_blank\" href=https://colab.research.google.com/notebooks/data_table.ipynb>data table notebook</a>'\n",
              "            + ' to learn more about interactive tables.';\n",
              "          element.innerHTML = '';\n",
              "          dataTable['output_type'] = 'display_data';\n",
              "          await google.colab.output.renderOutput(dataTable, element);\n",
              "          const docLink = document.createElement('div');\n",
              "          docLink.innerHTML = docLinkHtml;\n",
              "          element.appendChild(docLink);\n",
              "        }\n",
              "      </script>\n",
              "    </div>\n",
              "  </div>\n",
              "  "
            ]
          },
          "metadata": {},
          "execution_count": 22
        }
      ]
    },
    {
      "cell_type": "markdown",
      "source": [
        "**A partir de la tabla anterior podemos contruir algunos gráficos que nos permitan visualizar la distribución de la información**"
      ],
      "metadata": {
        "id": "-vl1kBNqK_EL"
      }
    },
    {
      "cell_type": "code",
      "source": [
        "plt.figure(figsize=(12,4))\n",
        "ax = sns.barplot(data=df_avg, x='Year', y='Energy')\n",
        "ax.set_xticklabels(ax.get_xticklabels(), rotation=90);"
      ],
      "metadata": {
        "colab": {
          "base_uri": "https://localhost:8080/",
          "height": 304
        },
        "id": "vUp06cr7BbS2",
        "outputId": "4831c7b6-435f-429f-ebaf-33ba7a6448e2"
      },
      "execution_count": 23,
      "outputs": [
        {
          "output_type": "display_data",
          "data": {
            "text/plain": [
              "<Figure size 864x288 with 1 Axes>"
            ],
            "image/png": "[encoded data removed]"
          },
          "metadata": {}
        }
      ]
    },
    {
      "cell_type": "markdown",
      "source": [
        "**Dado que el dataset contiene más de 2,000 registros, acortaremos la revisión a al top 100**"
      ],
      "metadata": {
        "id": "2ERWQeT0MYy9"
      }
    },
    {
      "cell_type": "code",
      "source": [
        "df_Top_100 = df.sort_values(by='Popularity', ascending=False, ignore_index=True).nlargest(100,'Popularity')"
      ],
      "metadata": {
        "id": "_KL72p2WLr53"
      },
      "execution_count": 26,
      "outputs": []
    },
    {
      "cell_type": "code",
      "source": [
        "df_Top_100"
      ],
      "metadata": {
        "colab": {
          "base_uri": "https://localhost:8080/",
          "height": 424
        },
        "id": "TheclUXOkTMi",
        "outputId": "792019ea-b017-416d-f45f-76ba5488e037"
      },
      "execution_count": 27,
      "outputs": [
        {
          "output_type": "execute_result",
          "data": {
            "text/plain": [
              "                               Title                 Artist         Top Genre  \\\n",
              "0                       Dance Monkey            Tones and I    australian pop   \n",
              "1                           Memories               Maroon 5               pop   \n",
              "2                            bad guy          Billie Eilish        electropop   \n",
              "3    All I Want for Christmas Is You           Mariah Carey         dance pop   \n",
              "4                           Believer        Imagine Dragons       modern rock   \n",
              "..                               ...                    ...               ...   \n",
              "95  With Or Without You - Remastered                     U2        irish rock   \n",
              "96              Just the Way You Are             Bruno Mars         dance pop   \n",
              "97                           You Say          Lauren Daigle               ccm   \n",
              "98                     Snow (Hey Oh)  Red Hot Chili Peppers  alternative rock   \n",
              "99                       Basket Case              Green Day       modern rock   \n",
              "\n",
              "    Year  Beats Per Minute (BPM)  Energy  Danceability  Loudness (dB)  \\\n",
              "0   2019                      98      59            82             -6   \n",
              "1   2019                      91      32            76             -7   \n",
              "2   2019                     135      43            70            -11   \n",
              "3   1994                     150      63            34             -7   \n",
              "4   2017                     125      78            78             -4   \n",
              "..   ...                     ...     ...           ...            ...   \n",
              "95  1987                     110      43            54            -12   \n",
              "96  2010                     109      84            64             -5   \n",
              "97  2018                     148      63            49             -7   \n",
              "98  2006                     105      90            43             -4   \n",
              "99  1994                      85      94            44             -3   \n",
              "\n",
              "    Liveness  Valence  Length (Duration)  Acousticness  Speechiness  \\\n",
              "0         15       51                209            69            9   \n",
              "1          8       57                189            84            5   \n",
              "2         10       56                194            33           38   \n",
              "3          7       35                241            16            4   \n",
              "4          8       67                204             6           13   \n",
              "..       ...      ...                ...           ...          ...   \n",
              "95        14       11                296             0            3   \n",
              "96         9       43                221             2            4   \n",
              "97         9        8                275            68            3   \n",
              "98        12       60                335            12            5   \n",
              "99         9       78                182             0            6   \n",
              "\n",
              "    Popularity  \n",
              "0          100  \n",
              "1           98  \n",
              "2           95  \n",
              "3           95  \n",
              "4           88  \n",
              "..         ...  \n",
              "95          80  \n",
              "96          80  \n",
              "97          80  \n",
              "98          80  \n",
              "99          79  \n",
              "\n",
              "[100 rows x 14 columns]"
            ],
            "text/html": [
              "\n",
              "  <div id=\"df-7b0e9f51-acf9-4321-8cb3-194dbd574027\">\n",
              "    <div class=\"colab-df-container\">\n",
              "      <div>\n",
              "<style scoped>\n",
              "    .dataframe tbody tr th:only-of-type {\n",
              "        vertical-align: middle;\n",
              "    }\n",
              "\n",
              "    .dataframe tbody tr th {\n",
              "        vertical-align: top;\n",
              "    }\n",
              "\n",
              "    .dataframe thead th {\n",
              "        text-align: right;\n",
              "    }\n",
              "</style>\n",
              "<table border=\"1\" class=\"dataframe\">\n",
              "  <thead>\n",
              "    <tr style=\"text-align: right;\">\n",
              "      <th></th>\n",
              "      <th>Title</th>\n",
              "      <th>Artist</th>\n",
              "      <th>Top Genre</th>\n",
              "      <th>Year</th>\n",
              "      <th>Beats Per Minute (BPM)</th>\n",
              "      <th>Energy</th>\n",
              "      <th>Danceability</th>\n",
              "      <th>Loudness (dB)</th>\n",
              "      <th>Liveness</th>\n",
              "      <th>Valence</th>\n",
              "      <th>Length (Duration)</th>\n",
              "      <th>Acousticness</th>\n",
              "      <th>Speechiness</th>\n",
              "      <th>Popularity</th>\n",
              "    </tr>\n",
              "  </thead>\n",
              "  <tbody>\n",
              "    <tr>\n",
              "      <th>0</th>\n",
              "      <td>Dance Monkey</td>\n",
              "      <td>Tones and I</td>\n",
              "      <td>australian pop</td>\n",
              "      <td>2019</td>\n",
              "      <td>98</td>\n",
              "      <td>59</td>\n",
              "      <td>82</td>\n",
              "      <td>-6</td>\n",
              "      <td>15</td>\n",
              "      <td>51</td>\n",
              "      <td>209</td>\n",
              "      <td>69</td>\n",
              "      <td>9</td>\n",
              "      <td>100</td>\n",
              "    </tr>\n",
              "    <tr>\n",
              "      <th>1</th>\n",
              "      <td>Memories</td>\n",
              "      <td>Maroon 5</td>\n",
              "      <td>pop</td>\n",
              "      <td>2019</td>\n",
              "      <td>91</td>\n",
              "      <td>32</td>\n",
              "      <td>76</td>\n",
              "      <td>-7</td>\n",
              "      <td>8</td>\n",
              "      <td>57</td>\n",
              "      <td>189</td>\n",
              "      <td>84</td>\n",
              "      <td>5</td>\n",
              "      <td>98</td>\n",
              "    </tr>\n",
              "    <tr>\n",
              "      <th>2</th>\n",
              "      <td>bad guy</td>\n",
              "      <td>Billie Eilish</td>\n",
              "      <td>electropop</td>\n",
              "      <td>2019</td>\n",
              "      <td>135</td>\n",
              "      <td>43</td>\n",
              "      <td>70</td>\n",
              "      <td>-11</td>\n",
              "      <td>10</td>\n",
              "      <td>56</td>\n",
              "      <td>194</td>\n",
              "      <td>33</td>\n",
              "      <td>38</td>\n",
              "      <td>95</td>\n",
              "    </tr>\n",
              "    <tr>\n",
              "      <th>3</th>\n",
              "      <td>All I Want for Christmas Is You</td>\n",
              "      <td>Mariah Carey</td>\n",
              "      <td>dance pop</td>\n",
              "      <td>1994</td>\n",
              "      <td>150</td>\n",
              "      <td>63</td>\n",
              "      <td>34</td>\n",
              "      <td>-7</td>\n",
              "      <td>7</td>\n",
              "      <td>35</td>\n",
              "      <td>241</td>\n",
              "      <td>16</td>\n",
              "      <td>4</td>\n",
              "      <td>95</td>\n",
              "    </tr>\n",
              "    <tr>\n",
              "      <th>4</th>\n",
              "      <td>Believer</td>\n",
              "      <td>Imagine Dragons</td>\n",
              "      <td>modern rock</td>\n",
              "      <td>2017</td>\n",
              "      <td>125</td>\n",
              "      <td>78</td>\n",
              "      <td>78</td>\n",
              "      <td>-4</td>\n",
              "      <td>8</td>\n",
              "      <td>67</td>\n",
              "      <td>204</td>\n",
              "      <td>6</td>\n",
              "      <td>13</td>\n",
              "      <td>88</td>\n",
              "    </tr>\n",
              "    <tr>\n",
              "      <th>...</th>\n",
              "      <td>...</td>\n",
              "      <td>...</td>\n",
              "      <td>...</td>\n",
              "      <td>...</td>\n",
              "      <td>...</td>\n",
              "      <td>...</td>\n",
              "      <td>...</td>\n",
              "      <td>...</td>\n",
              "      <td>...</td>\n",
              "      <td>...</td>\n",
              "      <td>...</td>\n",
              "      <td>...</td>\n",
              "      <td>...</td>\n",
              "      <td>...</td>\n",
              "    </tr>\n",
              "    <tr>\n",
              "      <th>95</th>\n",
              "      <td>With Or Without You - Remastered</td>\n",
              "      <td>U2</td>\n",
              "      <td>irish rock</td>\n",
              "      <td>1987</td>\n",
              "      <td>110</td>\n",
              "      <td>43</td>\n",
              "      <td>54</td>\n",
              "      <td>-12</td>\n",
              "      <td>14</td>\n",
              "      <td>11</td>\n",
              "      <td>296</td>\n",
              "      <td>0</td>\n",
              "      <td>3</td>\n",
              "      <td>80</td>\n",
              "    </tr>\n",
              "    <tr>\n",
              "      <th>96</th>\n",
              "      <td>Just the Way You Are</td>\n",
              "      <td>Bruno Mars</td>\n",
              "      <td>dance pop</td>\n",
              "      <td>2010</td>\n",
              "      <td>109</td>\n",
              "      <td>84</td>\n",
              "      <td>64</td>\n",
              "      <td>-5</td>\n",
              "      <td>9</td>\n",
              "      <td>43</td>\n",
              "      <td>221</td>\n",
              "      <td>2</td>\n",
              "      <td>4</td>\n",
              "      <td>80</td>\n",
              "    </tr>\n",
              "    <tr>\n",
              "      <th>97</th>\n",
              "      <td>You Say</td>\n",
              "      <td>Lauren Daigle</td>\n",
              "      <td>ccm</td>\n",
              "      <td>2018</td>\n",
              "      <td>148</td>\n",
              "      <td>63</td>\n",
              "      <td>49</td>\n",
              "      <td>-7</td>\n",
              "      <td>9</td>\n",
              "      <td>8</td>\n",
              "      <td>275</td>\n",
              "      <td>68</td>\n",
              "      <td>3</td>\n",
              "      <td>80</td>\n",
              "    </tr>\n",
              "    <tr>\n",
              "      <th>98</th>\n",
              "      <td>Snow (Hey Oh)</td>\n",
              "      <td>Red Hot Chili Peppers</td>\n",
              "      <td>alternative rock</td>\n",
              "      <td>2006</td>\n",
              "      <td>105</td>\n",
              "      <td>90</td>\n",
              "      <td>43</td>\n",
              "      <td>-4</td>\n",
              "      <td>12</td>\n",
              "      <td>60</td>\n",
              "      <td>335</td>\n",
              "      <td>12</td>\n",
              "      <td>5</td>\n",
              "      <td>80</td>\n",
              "    </tr>\n",
              "    <tr>\n",
              "      <th>99</th>\n",
              "      <td>Basket Case</td>\n",
              "      <td>Green Day</td>\n",
              "      <td>modern rock</td>\n",
              "      <td>1994</td>\n",
              "      <td>85</td>\n",
              "      <td>94</td>\n",
              "      <td>44</td>\n",
              "      <td>-3</td>\n",
              "      <td>9</td>\n",
              "      <td>78</td>\n",
              "      <td>182</td>\n",
              "      <td>0</td>\n",
              "      <td>6</td>\n",
              "      <td>79</td>\n",
              "    </tr>\n",
              "  </tbody>\n",
              "</table>\n",
              "<p>100 rows × 14 columns</p>\n",
              "</div>\n",
              "      <button class=\"colab-df-convert\" onclick=\"convertToInteractive('df-7b0e9f51-acf9-4321-8cb3-194dbd574027')\"\n",
              "              title=\"Convert this dataframe to an interactive table.\"\n",
              "              style=\"display:none;\">\n",
              "        \n",
              "  <svg xmlns=\"http://www.w3.org/2000/svg\" height=\"24px\"viewBox=\"0 0 24 24\"\n",
              "       width=\"24px\">\n",
              "    <path d=\"M0 0h24v24H0V0z\" fill=\"none\"/>\n",
              "    <path d=\"M18.56 5.44l.94 2.06.94-2.06 2.06-.94-2.06-.94-.94-2.06-.94 2.06-2.06.94zm-11 1L8.5 8.5l.94-2.06 2.06-.94-2.06-.94L8.5 2.5l-.94 2.06-2.06.94zm10 10l.94 2.06.94-2.06 2.06-.94-2.06-.94-.94-2.06-.94 2.06-2.06.94z\"/><path d=\"M17.41 7.96l-1.37-1.37c-.4-.4-.92-.59-1.43-.59-.52 0-1.04.2-1.43.59L10.3 9.45l-7.72 7.72c-.78.78-.78 2.05 0 2.83L4 21.41c.39.39.9.59 1.41.59.51 0 1.02-.2 1.41-.59l7.78-7.78 2.81-2.81c.8-.78.8-2.07 0-2.86zM5.41 20L4 18.59l7.72-7.72 1.47 1.35L5.41 20z\"/>\n",
              "  </svg>\n",
              "      </button>\n",
              "      \n",
              "  <style>\n",
              "    .colab-df-container {\n",
              "      display:flex;\n",
              "      flex-wrap:wrap;\n",
              "      gap: 12px;\n",
              "    }\n",
              "\n",
              "    .colab-df-convert {\n",
              "      background-color: #E8F0FE;\n",
              "      border: none;\n",
              "      border-radius: 50%;\n",
              "      cursor: pointer;\n",
              "      display: none;\n",
              "      fill: #1967D2;\n",
              "      height: 32px;\n",
              "      padding: 0 0 0 0;\n",
              "      width: 32px;\n",
              "    }\n",
              "\n",
              "    .colab-df-convert:hover {\n",
              "      background-color: #E2EBFA;\n",
              "      box-shadow: 0px 1px 2px rgba(60, 64, 67, 0.3), 0px 1px 3px 1px rgba(60, 64, 67, 0.15);\n",
              "      fill: #174EA6;\n",
              "    }\n",
              "\n",
              "    [theme=dark] .colab-df-convert {\n",
              "      background-color: #3B4455;\n",
              "      fill: #D2E3FC;\n",
              "    }\n",
              "\n",
              "    [theme=dark] .colab-df-convert:hover {\n",
              "      background-color: #434B5C;\n",
              "      box-shadow: 0px 1px 3px 1px rgba(0, 0, 0, 0.15);\n",
              "      filter: drop-shadow(0px 1px 2px rgba(0, 0, 0, 0.3));\n",
              "      fill: #FFFFFF;\n",
              "    }\n",
              "  </style>\n",
              "\n",
              "      <script>\n",
              "        const buttonEl =\n",
              "          document.querySelector('#df-7b0e9f51-acf9-4321-8cb3-194dbd574027 button.colab-df-convert');\n",
              "        buttonEl.style.display =\n",
              "          google.colab.kernel.accessAllowed ? 'block' : 'none';\n",
              "\n",
              "        async function convertToInteractive(key) {\n",
              "          const element = document.querySelector('#df-7b0e9f51-acf9-4321-8cb3-194dbd574027');\n",
              "          const dataTable =\n",
              "            await google.colab.kernel.invokeFunction('convertToInteractive',\n",
              "                                                     [key], {});\n",
              "          if (!dataTable) return;\n",
              "\n",
              "          const docLinkHtml = 'Like what you see? Visit the ' +\n",
              "            '<a target=\"_blank\" href=https://colab.research.google.com/notebooks/data_table.ipynb>data table notebook</a>'\n",
              "            + ' to learn more about interactive tables.';\n",
              "          element.innerHTML = '';\n",
              "          dataTable['output_type'] = 'display_data';\n",
              "          await google.colab.output.renderOutput(dataTable, element);\n",
              "          const docLink = document.createElement('div');\n",
              "          docLink.innerHTML = docLinkHtml;\n",
              "          element.appendChild(docLink);\n",
              "        }\n",
              "      </script>\n",
              "    </div>\n",
              "  </div>\n",
              "  "
            ]
          },
          "metadata": {},
          "execution_count": 27
        }
      ]
    },
    {
      "cell_type": "markdown",
      "source": [
        "**Agregando una columna que permita realizar la clasificacion y agrupacion por Bins de 10 canciones**"
      ],
      "metadata": {
        "id": "Cizj4I2GV7W9"
      }
    },
    {
      "cell_type": "code",
      "source": [
        "df_Top_100['Top'] = ''"
      ],
      "metadata": {
        "id": "1gIvtALFVVID"
      },
      "execution_count": 28,
      "outputs": []
    },
    {
      "cell_type": "code",
      "source": [
        "df_Top_100.iloc[:10,14] = '01-10'\n",
        "df_Top_100.iloc[10:20,14] = '11-20'\n",
        "df_Top_100.iloc[20:30,14] = '21-30'\n",
        "df_Top_100.iloc[30:40,14] = '31-40'\n",
        "df_Top_100.iloc[40:50,14] = '41-50'\n",
        "df_Top_100.iloc[50:60,14] = '51-60'\n",
        "df_Top_100.iloc[60:70,14] = '61-70'\n",
        "df_Top_100.iloc[70:80,14] = '71-80'\n",
        "df_Top_100.iloc[80:90,14] = '81-90'\n",
        "df_Top_100.iloc[90:100,14] = '91-100'"
      ],
      "metadata": {
        "id": "H9C_uiP4V3jm"
      },
      "execution_count": 29,
      "outputs": []
    },
    {
      "cell_type": "code",
      "source": [
        "df_Top_100.head(50)"
      ],
      "metadata": {
        "id": "zEfXUFO0WQ-Z"
      },
      "execution_count": null,
      "outputs": []
    },
    {
      "cell_type": "markdown",
      "source": [
        "**Para analizar correctamente la información realizaremos la agrupación de los datos promediando por Bin**"
      ],
      "metadata": {
        "id": "LLcXjX87NFxR"
      }
    },
    {
      "cell_type": "code",
      "source": [
        "avg_df_top_100 = df_Top_100.groupby('Top', as_index=False).mean()\n",
        "avg_df_top_100"
      ],
      "metadata": {
        "id": "wttaz1I9XbxX"
      },
      "execution_count": null,
      "outputs": []
    },
    {
      "cell_type": "markdown",
      "source": [
        "**Creamos una variable para el top 500, 20 y 10**"
      ],
      "metadata": {
        "id": "f0R1cNUsOOtz"
      }
    },
    {
      "cell_type": "code",
      "source": [
        "df_Top_500 = df.sort_values(by='Popularity', ascending=False, ignore_index=True).nlargest(500,'Popularity')"
      ],
      "metadata": {
        "id": "sS9c6vmnVFEG"
      },
      "execution_count": 41,
      "outputs": []
    },
    {
      "cell_type": "code",
      "source": [
        "df_Top_20 = df.sort_values(by='Popularity', ascending=False, ignore_index=True).nlargest(20,'Popularity')"
      ],
      "metadata": {
        "id": "49QBJqCvZxkG"
      },
      "execution_count": 47,
      "outputs": []
    },
    {
      "cell_type": "code",
      "source": [
        "df_Top_10 = df.sort_values(by='Popularity', ascending=False, ignore_index=True).nlargest(10,'Popularity')"
      ],
      "metadata": {
        "id": "0TlSrG6qbJUG"
      },
      "execution_count": 49,
      "outputs": []
    },
    {
      "cell_type": "markdown",
      "source": [
        "###Gráficos"
      ],
      "metadata": {
        "id": "LqkrEjs8PLLm"
      }
    },
    {
      "cell_type": "markdown",
      "source": [
        "**Agrupando por año para saber la distribución de las 100 canciones más populares**"
      ],
      "metadata": {
        "id": "N-VeFXXdqAlH"
      }
    },
    {
      "cell_type": "code",
      "source": [
        "plt.figure(figsize=(12, 5))\n",
        "sns.set_theme(style='darkgrid')\n",
        "sns.countplot(data=df_Top_100, x='Year', palette='winter')\n",
        "plt.xticks(rotation=90);"
      ],
      "metadata": {
        "id": "DSsHDvLp-QrK",
        "colab": {
          "base_uri": "https://localhost:8080/",
          "height": 357
        },
        "outputId": "7a7a7e65-ad1a-48c7-e11f-79878d7a5ed0"
      },
      "execution_count": 43,
      "outputs": [
        {
          "output_type": "display_data",
          "data": {
            "text/plain": [
              "<Figure size 864x360 with 1 Axes>"
            ],
            "image/png": "[encoded data removed]"
          },
          "metadata": {}
        }
      ]
    },
    {
      "cell_type": "markdown",
      "source": [
        "**Visualizando el conteo a través de un gráfico de distribución**"
      ],
      "metadata": {
        "id": "K4C71GQCR7wF"
      }
    },
    {
      "cell_type": "code",
      "source": [
        "c = sns.displot(df_Top_100, x=\"Year\",\n",
        "            kde=True,\n",
        "            stat='density',\n",
        "            color='green',\n",
        "            rug='true',\n",
        "            height=12,\n",
        "            aspect=12/18,\n",
        "            #palette='winter'\n",
        "            #kde_kws=dict(cut=0.05)\n",
        "            \n",
        "            );\n",
        "c.set_xticklabels(size=21)\n",
        "c.set_xlabels(size=25, labelpad=20, weight='bold')\n",
        "c.set_yticklabels(size=21)\n",
        "c.set_ylabels(size=25, labelpad=20, weight='bold')\n",
        "plt.xticks(rotation=90)\n",
        "plt.title('Top 100: Songs by release year', fontsize=30, pad=40, fontweight='bold'); # Formato titulo"
      ],
      "metadata": {
        "colab": {
          "base_uri": "https://localhost:8080/",
          "height": 1000
        },
        "id": "gdBk9nGGx-WO",
        "outputId": "ab4bb5fa-aefb-47e9-c1f1-7af318fabf87"
      },
      "execution_count": 44,
      "outputs": [
        {
          "output_type": "display_data",
          "data": {
            "text/plain": [
              "<Figure size 576x864 with 1 Axes>"
            ],
            "image/png": "[encoded data removed]"
          },
          "metadata": {}
        }
      ]
    },
    {
      "cell_type": "code",
      "source": [
        "c = sns.displot(df_Top_20, x=\"Year\",\n",
        "            kde=True,\n",
        "            stat='density',\n",
        "            color='blue',\n",
        "            #rug='true',\n",
        "            height=12,\n",
        "            aspect=12/18,\n",
        "            #palette='winter'\n",
        "            #kde_kws=dict(cut=0.05)\n",
        "            \n",
        "            );\n",
        "c.set_xticklabels(size=21)\n",
        "c.set_xlabels(size=25, labelpad=20, weight='bold')\n",
        "c.set_yticklabels(size=21)\n",
        "c.set_ylabels(size=25, labelpad=20, weight='bold')\n",
        "plt.xticks(rotation=90)\n",
        "plt.title('Top 20: Songs by release year', fontsize=30, pad=40, fontweight='bold'); # Formato titulo"
      ],
      "metadata": {
        "colab": {
          "base_uri": "https://localhost:8080/",
          "height": 1000
        },
        "id": "6phu6cqQEhlw",
        "outputId": "2cacfd65-d998-4175-8039-488242cb1715"
      },
      "execution_count": 52,
      "outputs": [
        {
          "output_type": "display_data",
          "data": {
            "text/plain": [
              "<Figure size 576x864 with 1 Axes>"
            ],
            "image/png": "[encoded data removed]"
          },
          "metadata": {}
        }
      ]
    },
    {
      "cell_type": "code",
      "source": [
        "c = sns.displot(df_Top_10, x=\"Year\",\n",
        "            kde=True,\n",
        "            stat='density',\n",
        "            color='orange',\n",
        "            #rug='true',\n",
        "            height=12,\n",
        "            aspect=12/18,\n",
        "            #palette='winter'\n",
        "            #kde_kws=dict(cut=0.05)\n",
        "            \n",
        "            );\n",
        "c.set_xticklabels(size=21)\n",
        "c.set_xlabels(size=25, labelpad=20, weight='bold')\n",
        "c.set_yticklabels(size=21)\n",
        "c.set_ylabels(size=25, labelpad=20, weight='bold')\n",
        "plt.xticks(rotation=90)\n",
        "plt.title('Top 10: Songs by release year', fontsize=30, pad=40, fontweight='bold'); # Formato titulo"
      ],
      "metadata": {
        "colab": {
          "base_uri": "https://localhost:8080/",
          "height": 1000
        },
        "id": "_mGyhemEHsVz",
        "outputId": "c323482d-5470-4ec9-a47f-69bd2f8b11df"
      },
      "execution_count": 51,
      "outputs": [
        {
          "output_type": "display_data",
          "data": {
            "text/plain": [
              "<Figure size 576x864 with 1 Axes>"
            ],
            "image/png": "[encoded data removed]"
          },
          "metadata": {}
        }
      ]
    },
    {
      "cell_type": "markdown",
      "source": [
        "**Agrupando por género**"
      ],
      "metadata": {
        "id": "hy-zmoM_blzt"
      }
    },
    {
      "cell_type": "code",
      "source": [
        "plt.figure(figsize=(12, 12))\n",
        "b = sns.countplot(data=df_Top_100, x='Top Genre', palette='winter',order = df_Top_100['Top Genre'].value_counts().index)\n",
        "plt.xticks(rotation=90)\n",
        "b.axes.set_title('Top 100: Songs by genre', fontsize=30, pad=20, fontweight='bold') # Formato titulo\n",
        "plt.xlabel('', fontsize=12) #Formato titulo eje x\n",
        "plt.ylabel('Number of songs', fontsize=22, labelpad=10) #Formato titulo eje y\n",
        "b.tick_params(axis='both', which='major', labelsize=15) #cambiar tamano de la etiquetas eje X\n",
        "b.set_yticklabels([]) # Eliminar etiquetas columna y\n",
        "\n",
        "for p in b.patches:\n",
        "  b.annotate(f'\\n{p.get_height()}', (p.get_x()+0.4, p.get_height()), ha='center', va='bottom', color='black', size=12, weight='bold')\n",
        "  \n",
        "sns.despine(left=True);"
      ],
      "metadata": {
        "colab": {
          "base_uri": "https://localhost:8080/",
          "height": 880
        },
        "id": "gDCm-uxKb0Im",
        "outputId": "9afe9e31-4006-413e-c313-53119e3cfaa2"
      },
      "execution_count": 68,
      "outputs": [
        {
          "output_type": "display_data",
          "data": {
            "text/plain": [
              "<Figure size 864x864 with 1 Axes>"
            ],
            "image/png": "[encoded data removed]"
          },
          "metadata": {}
        }
      ]
    },
    {
      "cell_type": "code",
      "source": [
        "plt.figure(figsize=(12, 12))\n",
        "sns.set_theme(style='white')\n",
        "\n",
        "a = sns.countplot(data=df_Top_20, x='Top Genre', palette='autumn',order = df_Top_20['Top Genre'].value_counts().index)\n",
        "plt.xticks(rotation=90)\n",
        "a.axes.set_title('Top 20: Songs by genre', fontsize=30, pad=20, fontweight='bold') # Formato titulo\n",
        "plt.xlabel('', fontsize=12) #Formato titulo eje x\n",
        "plt.ylabel('Number of songs', fontsize=25, labelpad=10) #Formato titulo eje y\n",
        "a.tick_params(axis='both', which='major', labelsize=21) #cambiar tamano de la etiquetas eje X\n",
        "a.set_yticklabels([]) # Eliminar etiquetas columna y\n",
        "\n",
        "for p in a.patches:\n",
        "  a.annotate(f'\\n{p.get_height()}', (p.get_x()+0.4, p.get_height()), ha='center', va='bottom', color='black', size=25, weight='bold')\n",
        "  \n",
        "sns.despine(left=True);"
      ],
      "metadata": {
        "colab": {
          "base_uri": "https://localhost:8080/",
          "height": 913
        },
        "id": "aL1bLc-pLPqC",
        "outputId": "634dd160-41eb-4a4c-d6f0-4503a89f4464"
      },
      "execution_count": 64,
      "outputs": [
        {
          "output_type": "display_data",
          "data": {
            "text/plain": [
              "<Figure size 864x864 with 1 Axes>"
            ],
            "image/png": "[encoded data removed]"
          },
          "metadata": {}
        }
      ]
    },
    {
      "cell_type": "code",
      "source": [
        "plt.figure(figsize=(12, 12))\n",
        "sns.set_theme(style='white')\n",
        "\n",
        "a = sns.countplot(data=df_Top_10, x='Top Genre', palette='winter',order = df_Top_10['Top Genre'].value_counts().index)\n",
        "plt.xticks(rotation=90)\n",
        "a.axes.set_title('Top 10: Songs by genre', fontsize=30, pad=20, fontweight='bold') # Formato titulo\n",
        "plt.xlabel('', fontsize=12) #Formato titulo eje x\n",
        "plt.ylabel('Number of songs', fontsize=25, labelpad=10) #Formato titulo eje y\n",
        "a.tick_params(axis='both', which='major', labelsize=21) #cambiar tamano de la etiquetas eje X\n",
        "a.set_yticklabels([]) # Eliminar etiquetas columna y\n",
        "\n",
        "for p in a.patches:\n",
        "  a.annotate(f'\\n{p.get_height()}', (p.get_x()+0.4, p.get_height()), ha='center', va='bottom', color='black', size=25, weight='bold')\n",
        "  \n",
        "sns.despine(left=True);"
      ],
      "metadata": {
        "colab": {
          "base_uri": "https://localhost:8080/",
          "height": 886
        },
        "id": "sn4GiA2_di3F",
        "outputId": "55973894-d775-4e28-f045-9a1092a6d1f6"
      },
      "execution_count": 56,
      "outputs": [
        {
          "output_type": "display_data",
          "data": {
            "text/plain": [
              "<Figure size 864x864 with 1 Axes>"
            ],
            "image/png": "[encoded data removed]"
          },
          "metadata": {}
        }
      ]
    },
    {
      "cell_type": "markdown",
      "source": [
        "**Polarplot - Performance de la canción**"
      ],
      "metadata": {
        "id": "6-RIG9IPPqFh"
      }
    },
    {
      "cell_type": "markdown",
      "source": [
        "Para la creación de este tipo de gráfico es necesario realizar la estandarización de los valores para mantener el valor de los ejes constantes y que puedan ser comparables."
      ],
      "metadata": {
        "id": "yyHL0_cjP3qO"
      }
    },
    {
      "cell_type": "code",
      "source": [
        "avg_df_top_100_adjusted = avg_df_top_100.copy()"
      ],
      "metadata": {
        "id": "Pivf42NEeSTh"
      },
      "execution_count": 32,
      "outputs": []
    },
    {
      "cell_type": "markdown",
      "source": [
        "Ajustaremos en proporción de 10 las columnas Loudnes, Speechiness y Length."
      ],
      "metadata": {
        "id": "OdXbHBSGQHF9"
      }
    },
    {
      "cell_type": "code",
      "source": [
        "avg_df_top_100_adjusted['Loudness (dB)'] = avg_df_top_100_adjusted['Loudness (dB)']*-10"
      ],
      "metadata": {
        "id": "8_FGijI1dwFw"
      },
      "execution_count": 33,
      "outputs": []
    },
    {
      "cell_type": "code",
      "source": [
        "avg_df_top_100_adjusted['Speechiness'] = avg_df_top_100_adjusted['Speechiness']*10"
      ],
      "metadata": {
        "id": "7yVQ9BGte83Z"
      },
      "execution_count": 34,
      "outputs": []
    },
    {
      "cell_type": "code",
      "source": [
        "avg_df_top_100_adjusted['Length (Duration)'] = avg_df_top_100_adjusted['Length (Duration)']/10"
      ],
      "metadata": {
        "id": "iepXgSyMqx7H"
      },
      "execution_count": 35,
      "outputs": []
    },
    {
      "cell_type": "code",
      "source": [
        "avg_df_top_100_adjusted"
      ],
      "metadata": {
        "id": "moqdweH8ejyt"
      },
      "execution_count": null,
      "outputs": []
    },
    {
      "cell_type": "markdown",
      "source": [
        "LLamamos al complemento de Plotly "
      ],
      "metadata": {
        "id": "fY72Nfd7QVYk"
      }
    },
    {
      "cell_type": "code",
      "source": [
        "import plotly.graph_objects as go"
      ],
      "metadata": {
        "id": "33LjjI4Hhh2k"
      },
      "execution_count": 37,
      "outputs": []
    },
    {
      "cell_type": "code",
      "source": [
        "  categories = ['BPM',\t'Energy',\t'Danceability',\t'Loudness (dB)',\t'Liveness',\t'Valence', 'Length',\t'Acousticness',\t'Speechiness',\t'Popularity']\n",
        "\n",
        "fig = go.Figure()\n",
        "\n",
        "fig.add_trace(go.Scatterpolar( # Estos son los valores promedios por Bin y variable\n",
        "      r=[108.8,\t54.0,\t64.0,\t60.0,\t11.0,\t50.9,\t22.11,\t43.0,\t91.0,\t91.1],\n",
        "      theta=categories,\n",
        "      fill='toself',\n",
        "      name='Top 1-10'\n",
        "))\n",
        "fig.add_trace(go.Scatterpolar( # Estos son los valores promedios por Bin y variable\n",
        "      r=[121.7,\t57.5,\t62.1,\t82.0,\t12.9,\t55.7,\t25.66,\t15.1,\t41.0,\t82.0],\n",
        "      theta=categories,\n",
        "      fill='toself',\n",
        "      name='Top 41-50'\n",
        "))\n",
        "fig.add_trace(go.Scatterpolar( # Estos son los valores promedios por Bin y variable\n",
        "      r=[118.1,\t66.0,\t55.3,\t75.0,\t16.2,\t37.8,\t25.81,\t25.8,\t42.0,\t79.9],\n",
        "      theta=categories,\n",
        "      fill='toself',\n",
        "      name='Top 91-100'\n",
        "))\n",
        "\n",
        "fig.update_layout(autosize=False,\n",
        "    width=850,\n",
        "    height=850,\n",
        "    title='Average songs performance',\n",
        "    title_font_size=25,\n",
        "    legend_font_size=20,\n",
        "    font=dict(size=18),\n",
        "  polar=dict(\n",
        "    radialaxis=dict(\n",
        "      visible=True,\n",
        "      range=[0, 150]\n",
        "    )),\n",
        "  showlegend=True\n",
        ")\n",
        "\n",
        "fig.show()"
      ],
      "metadata": {
        "colab": {
          "base_uri": "https://localhost:8080/",
          "height": 866
        },
        "id": "_-8y_I4mfQ8Z",
        "outputId": "8c6bcfb1-773b-433e-d464-44bccff8d507"
      },
      "execution_count": 38,
      "outputs": [
        {
          "output_type": "display_data",
          "data": {
            "text/html": [
              "<html>\n",
              "<head><meta charset=\"utf-8\" /></head>\n",
              "<body>\n",
              "    <div>            <script src=\"https://cdnjs.cloudflare.com/ajax/libs/mathjax/2.7.5/MathJax.js?config=TeX-AMS-MML_SVG\"></script><script type=\"text/javascript\">if (window.MathJax) {MathJax.Hub.Config({SVG: {font: \"STIX-Web\"}});}</script>                <script type=\"text/javascript\">window.PlotlyConfig = {MathJaxConfig: 'local'};</script>\n",
              "        <script src=\"https://cdn.plot.ly/plotly-2.8.3.min.js\"></script>                <div id=\"c816b0b0-9234-445d-9a49-c5bc5d987660\" class=\"plotly-graph-div\" style=\"height:850px; width:850px;\"></div>            <script type=\"text/javascript\">                                    window.PLOTLYENV=window.PLOTLYENV || {};                                    if (document.getElementById(\"c816b0b0-9234-445d-9a49-c5bc5d987660\")) {                    Plotly.newPlot(                        \"c816b0b0-9234-445d-9a49-c5bc5d987660\",                        [{\"fill\":\"toself\",\"name\":\"Top 1-10\",\"r\":[108.8,54.0,64.0,60.0,11.0,50.9,22.11,43.0,91.0,91.1],\"theta\":[\"BPM\",\"Energy\",\"Danceability\",\"Loudness (dB)\",\"Liveness\",\"Valence\",\"Length\",\"Acousticness\",\"Speechiness\",\"Popularity\"],\"type\":\"scatterpolar\"},{\"fill\":\"toself\",\"name\":\"Top 41-50\",\"r\":[121.7,57.5,62.1,82.0,12.9,55.7,25.66,15.1,41.0,82.0],\"theta\":[\"BPM\",\"Energy\",\"Danceability\",\"Loudness (dB)\",\"Liveness\",\"Valence\",\"Length\",\"Acousticness\",\"Speechiness\",\"Popularity\"],\"type\":\"scatterpolar\"},{\"fill\":\"toself\",\"name\":\"Top 91-100\",\"r\":[118.1,66.0,55.3,75.0,16.2,37.8,25.81,25.8,42.0,79.9],\"theta\":[\"BPM\",\"Energy\",\"Danceability\",\"Loudness (dB)\",\"Liveness\",\"Valence\",\"Length\",\"Acousticness\",\"Speechiness\",\"Popularity\"],\"type\":\"scatterpolar\"}],                        {\"template\":{\"data\":{\"bar\":[{\"error_x\":{\"color\":\"#2a3f5f\"},\"error_y\":{\"color\":\"#2a3f5f\"},\"marker\":{\"line\":{\"color\":\"#E5ECF6\",\"width\":0.5},\"pattern\":{\"fillmode\":\"overlay\",\"size\":10,\"solidity\":0.2}},\"type\":\"bar\"}],\"barpolar\":[{\"marker\":{\"line\":{\"color\":\"#E5ECF6\",\"width\":0.5},\"pattern\":{\"fillmode\":\"overlay\",\"size\":10,\"solidity\":0.2}},\"type\":\"barpolar\"}],\"carpet\":[{\"aaxis\":{\"endlinecolor\":\"#2a3f5f\",\"gridcolor\":\"white\",\"linecolor\":\"white\",\"minorgridcolor\":\"white\",\"startlinecolor\":\"#2a3f5f\"},\"baxis\":{\"endlinecolor\":\"#2a3f5f\",\"gridcolor\":\"white\",\"linecolor\":\"white\",\"minorgridcolor\":\"white\",\"startlinecolor\":\"#2a3f5f\"},\"type\":\"carpet\"}],\"choropleth\":[{\"colorbar\":{\"outlinewidth\":0,\"ticks\":\"\"},\"type\":\"choropleth\"}],\"contour\":[{\"colorbar\":{\"outlinewidth\":0,\"ticks\":\"\"},\"colorscale\":[[0.0,\"#0d0887\"],[0.1111111111111111,\"#46039f\"],[0.2222222222222222,\"#7201a8\"],[0.3333333333333333,\"#9c179e\"],[0.4444444444444444,\"#bd3786\"],[0.5555555555555556,\"#d8576b\"],[0.6666666666666666,\"#ed7953\"],[0.7777777777777778,\"#fb9f3a\"],[0.8888888888888888,\"#fdca26\"],[1.0,\"#f0f921\"]],\"type\":\"contour\"}],\"contourcarpet\":[{\"colorbar\":{\"outlinewidth\":0,\"ticks\":\"\"},\"type\":\"contourcarpet\"}],\"heatmap\":[{\"colorbar\":{\"outlinewidth\":0,\"ticks\":\"\"},\"colorscale\":[[0.0,\"#0d0887\"],[0.1111111111111111,\"#46039f\"],[0.2222222222222222,\"#7201a8\"],[0.3333333333333333,\"#9c179e\"],[0.4444444444444444,\"#bd3786\"],[0.5555555555555556,\"#d8576b\"],[0.6666666666666666,\"#ed7953\"],[0.7777777777777778,\"#fb9f3a\"],[0.8888888888888888,\"#fdca26\"],[1.0,\"#f0f921\"]],\"type\":\"heatmap\"}],\"heatmapgl\":[{\"colorbar\":{\"outlinewidth\":0,\"ticks\":\"\"},\"colorscale\":[[0.0,\"#0d0887\"],[0.1111111111111111,\"#46039f\"],[0.2222222222222222,\"#7201a8\"],[0.3333333333333333,\"#9c179e\"],[0.4444444444444444,\"#bd3786\"],[0.5555555555555556,\"#d8576b\"],[0.6666666666666666,\"#ed7953\"],[0.7777777777777778,\"#fb9f3a\"],[0.8888888888888888,\"#fdca26\"],[1.0,\"#f0f921\"]],\"type\":\"heatmapgl\"}],\"histogram\":[{\"marker\":{\"pattern\":{\"fillmode\":\"overlay\",\"size\":10,\"solidity\":0.2}},\"type\":\"histogram\"}],\"histogram2d\":[{\"colorbar\":{\"outlinewidth\":0,\"ticks\":\"\"},\"colorscale\":[[0.0,\"#0d0887\"],[0.1111111111111111,\"#46039f\"],[0.2222222222222222,\"#7201a8\"],[0.3333333333333333,\"#9c179e\"],[0.4444444444444444,\"#bd3786\"],[0.5555555555555556,\"#d8576b\"],[0.6666666666666666,\"#ed7953\"],[0.7777777777777778,\"#fb9f3a\"],[0.8888888888888888,\"#fdca26\"],[1.0,\"#f0f921\"]],\"type\":\"histogram2d\"}],\"histogram2dcontour\":[{\"colorbar\":{\"outlinewidth\":0,\"ticks\":\"\"},\"colorscale\":[[0.0,\"#0d0887\"],[0.1111111111111111,\"#46039f\"],[0.2222222222222222,\"#7201a8\"],[0.3333333333333333,\"#9c179e\"],[0.4444444444444444,\"#bd3786\"],[0.5555555555555556,\"#d8576b\"],[0.6666666666666666,\"#ed7953\"],[0.7777777777777778,\"#fb9f3a\"],[0.8888888888888888,\"#fdca26\"],[1.0,\"#f0f921\"]],\"type\":\"histogram2dcontour\"}],\"mesh3d\":[{\"colorbar\":{\"outlinewidth\":0,\"ticks\":\"\"},\"type\":\"mesh3d\"}],\"parcoords\":[{\"line\":{\"colorbar\":{\"outlinewidth\":0,\"ticks\":\"\"}},\"type\":\"parcoords\"}],\"pie\":[{\"automargin\":true,\"type\":\"pie\"}],\"scatter\":[{\"marker\":{\"colorbar\":{\"outlinewidth\":0,\"ticks\":\"\"}},\"type\":\"scatter\"}],\"scatter3d\":[{\"line\":{\"colorbar\":{\"outlinewidth\":0,\"ticks\":\"\"}},\"marker\":{\"colorbar\":{\"outlinewidth\":0,\"ticks\":\"\"}},\"type\":\"scatter3d\"}],\"scattercarpet\":[{\"marker\":{\"colorbar\":{\"outlinewidth\":0,\"ticks\":\"\"}},\"type\":\"scattercarpet\"}],\"scattergeo\":[{\"marker\":{\"colorbar\":{\"outlinewidth\":0,\"ticks\":\"\"}},\"type\":\"scattergeo\"}],\"scattergl\":[{\"marker\":{\"colorbar\":{\"outlinewidth\":0,\"ticks\":\"\"}},\"type\":\"scattergl\"}],\"scattermapbox\":[{\"marker\":{\"colorbar\":{\"outlinewidth\":0,\"ticks\":\"\"}},\"type\":\"scattermapbox\"}],\"scatterpolar\":[{\"marker\":{\"colorbar\":{\"outlinewidth\":0,\"ticks\":\"\"}},\"type\":\"scatterpolar\"}],\"scatterpolargl\":[{\"marker\":{\"colorbar\":{\"outlinewidth\":0,\"ticks\":\"\"}},\"type\":\"scatterpolargl\"}],\"scatterternary\":[{\"marker\":{\"colorbar\":{\"outlinewidth\":0,\"ticks\":\"\"}},\"type\":\"scatterternary\"}],\"surface\":[{\"colorbar\":{\"outlinewidth\":0,\"ticks\":\"\"},\"colorscale\":[[0.0,\"#0d0887\"],[0.1111111111111111,\"#46039f\"],[0.2222222222222222,\"#7201a8\"],[0.3333333333333333,\"#9c179e\"],[0.4444444444444444,\"#bd3786\"],[0.5555555555555556,\"#d8576b\"],[0.6666666666666666,\"#ed7953\"],[0.7777777777777778,\"#fb9f3a\"],[0.8888888888888888,\"#fdca26\"],[1.0,\"#f0f921\"]],\"type\":\"surface\"}],\"table\":[{\"cells\":{\"fill\":{\"color\":\"#EBF0F8\"},\"line\":{\"color\":\"white\"}},\"header\":{\"fill\":{\"color\":\"#C8D4E3\"},\"line\":{\"color\":\"white\"}},\"type\":\"table\"}]},\"layout\":{\"annotationdefaults\":{\"arrowcolor\":\"#2a3f5f\",\"arrowhead\":0,\"arrowwidth\":1},\"autotypenumbers\":\"strict\",\"coloraxis\":{\"colorbar\":{\"outlinewidth\":0,\"ticks\":\"\"}},\"colorscale\":{\"diverging\":[[0,\"#8e0152\"],[0.1,\"#c51b7d\"],[0.2,\"#de77ae\"],[0.3,\"#f1b6da\"],[0.4,\"#fde0ef\"],[0.5,\"#f7f7f7\"],[0.6,\"#e6f5d0\"],[0.7,\"#b8e186\"],[0.8,\"#7fbc41\"],[0.9,\"#4d9221\"],[1,\"#276419\"]],\"sequential\":[[0.0,\"#0d0887\"],[0.1111111111111111,\"#46039f\"],[0.2222222222222222,\"#7201a8\"],[0.3333333333333333,\"#9c179e\"],[0.4444444444444444,\"#bd3786\"],[0.5555555555555556,\"#d8576b\"],[0.6666666666666666,\"#ed7953\"],[0.7777777777777778,\"#fb9f3a\"],[0.8888888888888888,\"#fdca26\"],[1.0,\"#f0f921\"]],\"sequentialminus\":[[0.0,\"#0d0887\"],[0.1111111111111111,\"#46039f\"],[0.2222222222222222,\"#7201a8\"],[0.3333333333333333,\"#9c179e\"],[0.4444444444444444,\"#bd3786\"],[0.5555555555555556,\"#d8576b\"],[0.6666666666666666,\"#ed7953\"],[0.7777777777777778,\"#fb9f3a\"],[0.8888888888888888,\"#fdca26\"],[1.0,\"#f0f921\"]]},\"colorway\":[\"#636efa\",\"#EF553B\",\"#00cc96\",\"#ab63fa\",\"#FFA15A\",\"#19d3f3\",\"#FF6692\",\"#B6E880\",\"#FF97FF\",\"#FECB52\"],\"font\":{\"color\":\"#2a3f5f\"},\"geo\":{\"bgcolor\":\"white\",\"lakecolor\":\"white\",\"landcolor\":\"#E5ECF6\",\"showlakes\":true,\"showland\":true,\"subunitcolor\":\"white\"},\"hoverlabel\":{\"align\":\"left\"},\"hovermode\":\"closest\",\"mapbox\":{\"style\":\"light\"},\"paper_bgcolor\":\"white\",\"plot_bgcolor\":\"#E5ECF6\",\"polar\":{\"angularaxis\":{\"gridcolor\":\"white\",\"linecolor\":\"white\",\"ticks\":\"\"},\"bgcolor\":\"#E5ECF6\",\"radialaxis\":{\"gridcolor\":\"white\",\"linecolor\":\"white\",\"ticks\":\"\"}},\"scene\":{\"xaxis\":{\"backgroundcolor\":\"#E5ECF6\",\"gridcolor\":\"white\",\"gridwidth\":2,\"linecolor\":\"white\",\"showbackground\":true,\"ticks\":\"\",\"zerolinecolor\":\"white\"},\"yaxis\":{\"backgroundcolor\":\"#E5ECF6\",\"gridcolor\":\"white\",\"gridwidth\":2,\"linecolor\":\"white\",\"showbackground\":true,\"ticks\":\"\",\"zerolinecolor\":\"white\"},\"zaxis\":{\"backgroundcolor\":\"#E5ECF6\",\"gridcolor\":\"white\",\"gridwidth\":2,\"linecolor\":\"white\",\"showbackground\":true,\"ticks\":\"\",\"zerolinecolor\":\"white\"}},\"shapedefaults\":{\"line\":{\"color\":\"#2a3f5f\"}},\"ternary\":{\"aaxis\":{\"gridcolor\":\"white\",\"linecolor\":\"white\",\"ticks\":\"\"},\"baxis\":{\"gridcolor\":\"white\",\"linecolor\":\"white\",\"ticks\":\"\"},\"bgcolor\":\"#E5ECF6\",\"caxis\":{\"gridcolor\":\"white\",\"linecolor\":\"white\",\"ticks\":\"\"}},\"title\":{\"x\":0.05},\"xaxis\":{\"automargin\":true,\"gridcolor\":\"white\",\"linecolor\":\"white\",\"ticks\":\"\",\"title\":{\"standoff\":15},\"zerolinecolor\":\"white\",\"zerolinewidth\":2},\"yaxis\":{\"automargin\":true,\"gridcolor\":\"white\",\"linecolor\":\"white\",\"ticks\":\"\",\"title\":{\"standoff\":15},\"zerolinecolor\":\"white\",\"zerolinewidth\":2}}},\"title\":{\"text\":\"Average songs performance\",\"font\":{\"size\":25}},\"legend\":{\"font\":{\"size\":20}},\"font\":{\"size\":18},\"polar\":{\"radialaxis\":{\"visible\":true,\"range\":[0,150]}},\"autosize\":false,\"width\":850,\"height\":850,\"showlegend\":true},                        {\"responsive\": true}                    ).then(function(){\n",
              "                            \n",
              "var gd = document.getElementById('c816b0b0-9234-445d-9a49-c5bc5d987660');\n",
              "var x = new MutationObserver(function (mutations, observer) {{\n",
              "        var display = window.getComputedStyle(gd).display;\n",
              "        if (!display || display === 'none') {{\n",
              "            console.log([gd, 'removed!']);\n",
              "            Plotly.purge(gd);\n",
              "            observer.disconnect();\n",
              "        }}\n",
              "}});\n",
              "\n",
              "// Listen for the removal of the full notebook cells\n",
              "var notebookContainer = gd.closest('#notebook-container');\n",
              "if (notebookContainer) {{\n",
              "    x.observe(notebookContainer, {childList: true});\n",
              "}}\n",
              "\n",
              "// Listen for the clearing of the current output cell\n",
              "var outputEl = gd.closest('.output');\n",
              "if (outputEl) {{\n",
              "    x.observe(outputEl, {childList: true});\n",
              "}}\n",
              "\n",
              "                        })                };                            </script>        </div>\n",
              "</body>\n",
              "</html>"
            ]
          },
          "metadata": {}
        }
      ]
    },
    {
      "cell_type": "markdown",
      "source": [
        "**Grafico comparando canciones Top 1-50-100**"
      ],
      "metadata": {
        "id": "GQMIW2PtBiko"
      }
    },
    {
      "cell_type": "markdown",
      "source": [
        "Crearemos una vista que nos permita tomar la info de las canciones"
      ],
      "metadata": {
        "id": "PaYd3hjzRJg9"
      }
    },
    {
      "cell_type": "code",
      "source": [
        "df_Top_100.loc[49:100,['Title', 'Artist', 'Top Genre', 'Year', 'Beats Per Minute (BPM)',\n",
        "       'Energy', 'Danceability', 'Loudness (dB)', 'Liveness', 'Valence',\n",
        "       'Length (Duration)', 'Acousticness', 'Speechiness', 'Popularity']]"
      ],
      "metadata": {
        "id": "ArWNzmJhCQXI"
      },
      "execution_count": null,
      "outputs": []
    },
    {
      "cell_type": "code",
      "source": [
        "df_Top_500.loc[499:500,['Title', 'Artist', 'Top Genre', 'Year', 'Beats Per Minute (BPM)',\n",
        "       'Energy', 'Danceability', 'Loudness (dB)', 'Liveness', 'Valence',\n",
        "       'Length (Duration)', 'Acousticness', 'Speechiness', 'Popularity']]"
      ],
      "metadata": {
        "colab": {
          "base_uri": "https://localhost:8080/",
          "height": 81
        },
        "id": "WsQPWf9zKPcl",
        "outputId": "f261b30d-2419-4bfe-f5da-cdf48d3c6c4b"
      },
      "execution_count": 42,
      "outputs": [
        {
          "output_type": "execute_result",
          "data": {
            "text/plain": [
              "               Title                           Artist   Top Genre  Year  \\\n",
              "499  Learning To Fly  Tom Petty and the Heartbreakers  album rock  1991   \n",
              "\n",
              "     Beats Per Minute (BPM)  Energy  Danceability  Loudness (dB)  Liveness  \\\n",
              "499                     117      77            65            -10        36   \n",
              "\n",
              "     Valence  Length (Duration)  Acousticness  Speechiness  Popularity  \n",
              "499       95                242            21            3          71  "
            ],
            "text/html": [
              "\n",
              "  <div id=\"df-c032a1af-d50c-40e9-bd05-0250b6407417\">\n",
              "    <div class=\"colab-df-container\">\n",
              "      <div>\n",
              "<style scoped>\n",
              "    .dataframe tbody tr th:only-of-type {\n",
              "        vertical-align: middle;\n",
              "    }\n",
              "\n",
              "    .dataframe tbody tr th {\n",
              "        vertical-align: top;\n",
              "    }\n",
              "\n",
              "    .dataframe thead th {\n",
              "        text-align: right;\n",
              "    }\n",
              "</style>\n",
              "<table border=\"1\" class=\"dataframe\">\n",
              "  <thead>\n",
              "    <tr style=\"text-align: right;\">\n",
              "      <th></th>\n",
              "      <th>Title</th>\n",
              "      <th>Artist</th>\n",
              "      <th>Top Genre</th>\n",
              "      <th>Year</th>\n",
              "      <th>Beats Per Minute (BPM)</th>\n",
              "      <th>Energy</th>\n",
              "      <th>Danceability</th>\n",
              "      <th>Loudness (dB)</th>\n",
              "      <th>Liveness</th>\n",
              "      <th>Valence</th>\n",
              "      <th>Length (Duration)</th>\n",
              "      <th>Acousticness</th>\n",
              "      <th>Speechiness</th>\n",
              "      <th>Popularity</th>\n",
              "    </tr>\n",
              "  </thead>\n",
              "  <tbody>\n",
              "    <tr>\n",
              "      <th>499</th>\n",
              "      <td>Learning To Fly</td>\n",
              "      <td>Tom Petty and the Heartbreakers</td>\n",
              "      <td>album rock</td>\n",
              "      <td>1991</td>\n",
              "      <td>117</td>\n",
              "      <td>77</td>\n",
              "      <td>65</td>\n",
              "      <td>-10</td>\n",
              "      <td>36</td>\n",
              "      <td>95</td>\n",
              "      <td>242</td>\n",
              "      <td>21</td>\n",
              "      <td>3</td>\n",
              "      <td>71</td>\n",
              "    </tr>\n",
              "  </tbody>\n",
              "</table>\n",
              "</div>\n",
              "      <button class=\"colab-df-convert\" onclick=\"convertToInteractive('df-c032a1af-d50c-40e9-bd05-0250b6407417')\"\n",
              "              title=\"Convert this dataframe to an interactive table.\"\n",
              "              style=\"display:none;\">\n",
              "        \n",
              "  <svg xmlns=\"http://www.w3.org/2000/svg\" height=\"24px\"viewBox=\"0 0 24 24\"\n",
              "       width=\"24px\">\n",
              "    <path d=\"M0 0h24v24H0V0z\" fill=\"none\"/>\n",
              "    <path d=\"M18.56 5.44l.94 2.06.94-2.06 2.06-.94-2.06-.94-.94-2.06-.94 2.06-2.06.94zm-11 1L8.5 8.5l.94-2.06 2.06-.94-2.06-.94L8.5 2.5l-.94 2.06-2.06.94zm10 10l.94 2.06.94-2.06 2.06-.94-2.06-.94-.94-2.06-.94 2.06-2.06.94z\"/><path d=\"M17.41 7.96l-1.37-1.37c-.4-.4-.92-.59-1.43-.59-.52 0-1.04.2-1.43.59L10.3 9.45l-7.72 7.72c-.78.78-.78 2.05 0 2.83L4 21.41c.39.39.9.59 1.41.59.51 0 1.02-.2 1.41-.59l7.78-7.78 2.81-2.81c.8-.78.8-2.07 0-2.86zM5.41 20L4 18.59l7.72-7.72 1.47 1.35L5.41 20z\"/>\n",
              "  </svg>\n",
              "      </button>\n",
              "      \n",
              "  <style>\n",
              "    .colab-df-container {\n",
              "      display:flex;\n",
              "      flex-wrap:wrap;\n",
              "      gap: 12px;\n",
              "    }\n",
              "\n",
              "    .colab-df-convert {\n",
              "      background-color: #E8F0FE;\n",
              "      border: none;\n",
              "      border-radius: 50%;\n",
              "      cursor: pointer;\n",
              "      display: none;\n",
              "      fill: #1967D2;\n",
              "      height: 32px;\n",
              "      padding: 0 0 0 0;\n",
              "      width: 32px;\n",
              "    }\n",
              "\n",
              "    .colab-df-convert:hover {\n",
              "      background-color: #E2EBFA;\n",
              "      box-shadow: 0px 1px 2px rgba(60, 64, 67, 0.3), 0px 1px 3px 1px rgba(60, 64, 67, 0.15);\n",
              "      fill: #174EA6;\n",
              "    }\n",
              "\n",
              "    [theme=dark] .colab-df-convert {\n",
              "      background-color: #3B4455;\n",
              "      fill: #D2E3FC;\n",
              "    }\n",
              "\n",
              "    [theme=dark] .colab-df-convert:hover {\n",
              "      background-color: #434B5C;\n",
              "      box-shadow: 0px 1px 3px 1px rgba(0, 0, 0, 0.15);\n",
              "      filter: drop-shadow(0px 1px 2px rgba(0, 0, 0, 0.3));\n",
              "      fill: #FFFFFF;\n",
              "    }\n",
              "  </style>\n",
              "\n",
              "      <script>\n",
              "        const buttonEl =\n",
              "          document.querySelector('#df-c032a1af-d50c-40e9-bd05-0250b6407417 button.colab-df-convert');\n",
              "        buttonEl.style.display =\n",
              "          google.colab.kernel.accessAllowed ? 'block' : 'none';\n",
              "\n",
              "        async function convertToInteractive(key) {\n",
              "          const element = document.querySelector('#df-c032a1af-d50c-40e9-bd05-0250b6407417');\n",
              "          const dataTable =\n",
              "            await google.colab.kernel.invokeFunction('convertToInteractive',\n",
              "                                                     [key], {});\n",
              "          if (!dataTable) return;\n",
              "\n",
              "          const docLinkHtml = 'Like what you see? Visit the ' +\n",
              "            '<a target=\"_blank\" href=https://colab.research.google.com/notebooks/data_table.ipynb>data table notebook</a>'\n",
              "            + ' to learn more about interactive tables.';\n",
              "          element.innerHTML = '';\n",
              "          dataTable['output_type'] = 'display_data';\n",
              "          await google.colab.output.renderOutput(dataTable, element);\n",
              "          const docLink = document.createElement('div');\n",
              "          docLink.innerHTML = docLinkHtml;\n",
              "          element.appendChild(docLink);\n",
              "        }\n",
              "      </script>\n",
              "    </div>\n",
              "  </div>\n",
              "  "
            ]
          },
          "metadata": {},
          "execution_count": 42
        }
      ]
    },
    {
      "cell_type": "markdown",
      "source": [
        "Procedemos a graficar"
      ],
      "metadata": {
        "id": "XSIbKK4MRdL1"
      }
    },
    {
      "cell_type": "code",
      "source": [
        " categories = ['BPM',\t'Energy',\t'Danceability',\t'Loudness (dB)',\t'Liveness',\t'Valence', 'Length',\t'Acousticness',\t'Speechiness',\t'Popularity']\n",
        "\n",
        "fig = go.Figure()\n",
        "\n",
        "fig.add_trace(go.Scatterpolar(\n",
        "      r=[98,\t59,\t82,\t60,\t15,\t51,\t20.9,\t69,\t90, 100],\n",
        "      theta=categories,\n",
        "      fill='toself',\n",
        "      name='No.1: Dance Monkey - Tones and I'\n",
        "))\n",
        "fig.add_trace(go.Scatterpolar(\n",
        "      r=[85,\t53,\t55,\t80,\t22,\t41,\t27.2,\t19,\t30,\t82],\n",
        "      theta=categories,\n",
        "      fill='toself',\n",
        "      name='No.50: Do I Wanna Know? - Arctic Monkeys'\n",
        "))\n",
        "fig.add_trace(go.Scatterpolar(\n",
        "      r=[85,\t94,\t44,\t30,\t9,\t78,\t18.2,\t0,\t60,\t79],\n",
        "      theta=categories,\n",
        "      fill='toself',\n",
        "      name='No.100: Basket Case - Green Day\t'\n",
        "))\n",
        "fig.add_trace(go.Scatterpolar(\n",
        "      r=[117,\t77,\t65,\t100,\t36,\t95,\t24.2,\t21,\t30,\t71],\n",
        "      theta=categories,\n",
        "      fill='toself',\n",
        "      name='No.500: Learning To Fly - Tom Petty'\n",
        "))\n",
        "\n",
        "fig.update_layout(autosize=False,\n",
        "    width=1200,\n",
        "    height=1200,\n",
        "    title='Songs performance',\n",
        "    title_font_size=25,\n",
        "    legend_font_size=20,\n",
        "    font=dict(size=18),\n",
        "  polar=dict(\n",
        "    radialaxis=dict(\n",
        "      visible=True,\n",
        "      range=[0, 150]\n",
        "    )),\n",
        "  showlegend=True,\n",
        ")\n",
        "\n",
        "fig.show()"
      ],
      "metadata": {
        "id": "Eb5b7CBdkKCj",
        "colab": {
          "base_uri": "https://localhost:8080/",
          "height": 1000
        },
        "outputId": "abf2901e-c0e9-4800-f336-2f5fda59733d"
      },
      "execution_count": 39,
      "outputs": [
        {
          "output_type": "display_data",
          "data": {
            "text/html": [
              "<html>\n",
              "<head><meta charset=\"utf-8\" /></head>\n",
              "<body>\n",
              "    <div>            <script src=\"https://cdnjs.cloudflare.com/ajax/libs/mathjax/2.7.5/MathJax.js?config=TeX-AMS-MML_SVG\"></script><script type=\"text/javascript\">if (window.MathJax) {MathJax.Hub.Config({SVG: {font: \"STIX-Web\"}});}</script>                <script type=\"text/javascript\">window.PlotlyConfig = {MathJaxConfig: 'local'};</script>\n",
              "        <script src=\"https://cdn.plot.ly/plotly-2.8.3.min.js\"></script>                <div id=\"2bf68254-ff0b-4e73-b5cc-8c632766c55f\" class=\"plotly-graph-div\" style=\"height:1200px; width:1200px;\"></div>            <script type=\"text/javascript\">                                    window.PLOTLYENV=window.PLOTLYENV || {};                                    if (document.getElementById(\"2bf68254-ff0b-4e73-b5cc-8c632766c55f\")) {                    Plotly.newPlot(                        \"2bf68254-ff0b-4e73-b5cc-8c632766c55f\",                        [{\"fill\":\"toself\",\"name\":\"No.1: Dance Monkey - Tones and I\",\"r\":[98,59,82,60,15,51,20.9,69,90,100],\"theta\":[\"BPM\",\"Energy\",\"Danceability\",\"Loudness (dB)\",\"Liveness\",\"Valence\",\"Length\",\"Acousticness\",\"Speechiness\",\"Popularity\"],\"type\":\"scatterpolar\"},{\"fill\":\"toself\",\"name\":\"No.50: Do I Wanna Know? - Arctic Monkeys\",\"r\":[85,53,55,80,22,41,27.2,19,30,82],\"theta\":[\"BPM\",\"Energy\",\"Danceability\",\"Loudness (dB)\",\"Liveness\",\"Valence\",\"Length\",\"Acousticness\",\"Speechiness\",\"Popularity\"],\"type\":\"scatterpolar\"},{\"fill\":\"toself\",\"name\":\"No.100: Basket Case - Green Day\\t\",\"r\":[85,94,44,30,9,78,18.2,0,60,79],\"theta\":[\"BPM\",\"Energy\",\"Danceability\",\"Loudness (dB)\",\"Liveness\",\"Valence\",\"Length\",\"Acousticness\",\"Speechiness\",\"Popularity\"],\"type\":\"scatterpolar\"},{\"fill\":\"toself\",\"name\":\"No.500: Learning To Fly - Tom Petty\",\"r\":[117,77,65,100,36,95,24.2,21,30,71],\"theta\":[\"BPM\",\"Energy\",\"Danceability\",\"Loudness (dB)\",\"Liveness\",\"Valence\",\"Length\",\"Acousticness\",\"Speechiness\",\"Popularity\"],\"type\":\"scatterpolar\"}],                        {\"template\":{\"data\":{\"bar\":[{\"error_x\":{\"color\":\"#2a3f5f\"},\"error_y\":{\"color\":\"#2a3f5f\"},\"marker\":{\"line\":{\"color\":\"#E5ECF6\",\"width\":0.5},\"pattern\":{\"fillmode\":\"overlay\",\"size\":10,\"solidity\":0.2}},\"type\":\"bar\"}],\"barpolar\":[{\"marker\":{\"line\":{\"color\":\"#E5ECF6\",\"width\":0.5},\"pattern\":{\"fillmode\":\"overlay\",\"size\":10,\"solidity\":0.2}},\"type\":\"barpolar\"}],\"carpet\":[{\"aaxis\":{\"endlinecolor\":\"#2a3f5f\",\"gridcolor\":\"white\",\"linecolor\":\"white\",\"minorgridcolor\":\"white\",\"startlinecolor\":\"#2a3f5f\"},\"baxis\":{\"endlinecolor\":\"#2a3f5f\",\"gridcolor\":\"white\",\"linecolor\":\"white\",\"minorgridcolor\":\"white\",\"startlinecolor\":\"#2a3f5f\"},\"type\":\"carpet\"}],\"choropleth\":[{\"colorbar\":{\"outlinewidth\":0,\"ticks\":\"\"},\"type\":\"choropleth\"}],\"contour\":[{\"colorbar\":{\"outlinewidth\":0,\"ticks\":\"\"},\"colorscale\":[[0.0,\"#0d0887\"],[0.1111111111111111,\"#46039f\"],[0.2222222222222222,\"#7201a8\"],[0.3333333333333333,\"#9c179e\"],[0.4444444444444444,\"#bd3786\"],[0.5555555555555556,\"#d8576b\"],[0.6666666666666666,\"#ed7953\"],[0.7777777777777778,\"#fb9f3a\"],[0.8888888888888888,\"#fdca26\"],[1.0,\"#f0f921\"]],\"type\":\"contour\"}],\"contourcarpet\":[{\"colorbar\":{\"outlinewidth\":0,\"ticks\":\"\"},\"type\":\"contourcarpet\"}],\"heatmap\":[{\"colorbar\":{\"outlinewidth\":0,\"ticks\":\"\"},\"colorscale\":[[0.0,\"#0d0887\"],[0.1111111111111111,\"#46039f\"],[0.2222222222222222,\"#7201a8\"],[0.3333333333333333,\"#9c179e\"],[0.4444444444444444,\"#bd3786\"],[0.5555555555555556,\"#d8576b\"],[0.6666666666666666,\"#ed7953\"],[0.7777777777777778,\"#fb9f3a\"],[0.8888888888888888,\"#fdca26\"],[1.0,\"#f0f921\"]],\"type\":\"heatmap\"}],\"heatmapgl\":[{\"colorbar\":{\"outlinewidth\":0,\"ticks\":\"\"},\"colorscale\":[[0.0,\"#0d0887\"],[0.1111111111111111,\"#46039f\"],[0.2222222222222222,\"#7201a8\"],[0.3333333333333333,\"#9c179e\"],[0.4444444444444444,\"#bd3786\"],[0.5555555555555556,\"#d8576b\"],[0.6666666666666666,\"#ed7953\"],[0.7777777777777778,\"#fb9f3a\"],[0.8888888888888888,\"#fdca26\"],[1.0,\"#f0f921\"]],\"type\":\"heatmapgl\"}],\"histogram\":[{\"marker\":{\"pattern\":{\"fillmode\":\"overlay\",\"size\":10,\"solidity\":0.2}},\"type\":\"histogram\"}],\"histogram2d\":[{\"colorbar\":{\"outlinewidth\":0,\"ticks\":\"\"},\"colorscale\":[[0.0,\"#0d0887\"],[0.1111111111111111,\"#46039f\"],[0.2222222222222222,\"#7201a8\"],[0.3333333333333333,\"#9c179e\"],[0.4444444444444444,\"#bd3786\"],[0.5555555555555556,\"#d8576b\"],[0.6666666666666666,\"#ed7953\"],[0.7777777777777778,\"#fb9f3a\"],[0.8888888888888888,\"#fdca26\"],[1.0,\"#f0f921\"]],\"type\":\"histogram2d\"}],\"histogram2dcontour\":[{\"colorbar\":{\"outlinewidth\":0,\"ticks\":\"\"},\"colorscale\":[[0.0,\"#0d0887\"],[0.1111111111111111,\"#46039f\"],[0.2222222222222222,\"#7201a8\"],[0.3333333333333333,\"#9c179e\"],[0.4444444444444444,\"#bd3786\"],[0.5555555555555556,\"#d8576b\"],[0.6666666666666666,\"#ed7953\"],[0.7777777777777778,\"#fb9f3a\"],[0.8888888888888888,\"#fdca26\"],[1.0,\"#f0f921\"]],\"type\":\"histogram2dcontour\"}],\"mesh3d\":[{\"colorbar\":{\"outlinewidth\":0,\"ticks\":\"\"},\"type\":\"mesh3d\"}],\"parcoords\":[{\"line\":{\"colorbar\":{\"outlinewidth\":0,\"ticks\":\"\"}},\"type\":\"parcoords\"}],\"pie\":[{\"automargin\":true,\"type\":\"pie\"}],\"scatter\":[{\"marker\":{\"colorbar\":{\"outlinewidth\":0,\"ticks\":\"\"}},\"type\":\"scatter\"}],\"scatter3d\":[{\"line\":{\"colorbar\":{\"outlinewidth\":0,\"ticks\":\"\"}},\"marker\":{\"colorbar\":{\"outlinewidth\":0,\"ticks\":\"\"}},\"type\":\"scatter3d\"}],\"scattercarpet\":[{\"marker\":{\"colorbar\":{\"outlinewidth\":0,\"ticks\":\"\"}},\"type\":\"scattercarpet\"}],\"scattergeo\":[{\"marker\":{\"colorbar\":{\"outlinewidth\":0,\"ticks\":\"\"}},\"type\":\"scattergeo\"}],\"scattergl\":[{\"marker\":{\"colorbar\":{\"outlinewidth\":0,\"ticks\":\"\"}},\"type\":\"scattergl\"}],\"scattermapbox\":[{\"marker\":{\"colorbar\":{\"outlinewidth\":0,\"ticks\":\"\"}},\"type\":\"scattermapbox\"}],\"scatterpolar\":[{\"marker\":{\"colorbar\":{\"outlinewidth\":0,\"ticks\":\"\"}},\"type\":\"scatterpolar\"}],\"scatterpolargl\":[{\"marker\":{\"colorbar\":{\"outlinewidth\":0,\"ticks\":\"\"}},\"type\":\"scatterpolargl\"}],\"scatterternary\":[{\"marker\":{\"colorbar\":{\"outlinewidth\":0,\"ticks\":\"\"}},\"type\":\"scatterternary\"}],\"surface\":[{\"colorbar\":{\"outlinewidth\":0,\"ticks\":\"\"},\"colorscale\":[[0.0,\"#0d0887\"],[0.1111111111111111,\"#46039f\"],[0.2222222222222222,\"#7201a8\"],[0.3333333333333333,\"#9c179e\"],[0.4444444444444444,\"#bd3786\"],[0.5555555555555556,\"#d8576b\"],[0.6666666666666666,\"#ed7953\"],[0.7777777777777778,\"#fb9f3a\"],[0.8888888888888888,\"#fdca26\"],[1.0,\"#f0f921\"]],\"type\":\"surface\"}],\"table\":[{\"cells\":{\"fill\":{\"color\":\"#EBF0F8\"},\"line\":{\"color\":\"white\"}},\"header\":{\"fill\":{\"color\":\"#C8D4E3\"},\"line\":{\"color\":\"white\"}},\"type\":\"table\"}]},\"layout\":{\"annotationdefaults\":{\"arrowcolor\":\"#2a3f5f\",\"arrowhead\":0,\"arrowwidth\":1},\"autotypenumbers\":\"strict\",\"coloraxis\":{\"colorbar\":{\"outlinewidth\":0,\"ticks\":\"\"}},\"colorscale\":{\"diverging\":[[0,\"#8e0152\"],[0.1,\"#c51b7d\"],[0.2,\"#de77ae\"],[0.3,\"#f1b6da\"],[0.4,\"#fde0ef\"],[0.5,\"#f7f7f7\"],[0.6,\"#e6f5d0\"],[0.7,\"#b8e186\"],[0.8,\"#7fbc41\"],[0.9,\"#4d9221\"],[1,\"#276419\"]],\"sequential\":[[0.0,\"#0d0887\"],[0.1111111111111111,\"#46039f\"],[0.2222222222222222,\"#7201a8\"],[0.3333333333333333,\"#9c179e\"],[0.4444444444444444,\"#bd3786\"],[0.5555555555555556,\"#d8576b\"],[0.6666666666666666,\"#ed7953\"],[0.7777777777777778,\"#fb9f3a\"],[0.8888888888888888,\"#fdca26\"],[1.0,\"#f0f921\"]],\"sequentialminus\":[[0.0,\"#0d0887\"],[0.1111111111111111,\"#46039f\"],[0.2222222222222222,\"#7201a8\"],[0.3333333333333333,\"#9c179e\"],[0.4444444444444444,\"#bd3786\"],[0.5555555555555556,\"#d8576b\"],[0.6666666666666666,\"#ed7953\"],[0.7777777777777778,\"#fb9f3a\"],[0.8888888888888888,\"#fdca26\"],[1.0,\"#f0f921\"]]},\"colorway\":[\"#636efa\",\"#EF553B\",\"#00cc96\",\"#ab63fa\",\"#FFA15A\",\"#19d3f3\",\"#FF6692\",\"#B6E880\",\"#FF97FF\",\"#FECB52\"],\"font\":{\"color\":\"#2a3f5f\"},\"geo\":{\"bgcolor\":\"white\",\"lakecolor\":\"white\",\"landcolor\":\"#E5ECF6\",\"showlakes\":true,\"showland\":true,\"subunitcolor\":\"white\"},\"hoverlabel\":{\"align\":\"left\"},\"hovermode\":\"closest\",\"mapbox\":{\"style\":\"light\"},\"paper_bgcolor\":\"white\",\"plot_bgcolor\":\"#E5ECF6\",\"polar\":{\"angularaxis\":{\"gridcolor\":\"white\",\"linecolor\":\"white\",\"ticks\":\"\"},\"bgcolor\":\"#E5ECF6\",\"radialaxis\":{\"gridcolor\":\"white\",\"linecolor\":\"white\",\"ticks\":\"\"}},\"scene\":{\"xaxis\":{\"backgroundcolor\":\"#E5ECF6\",\"gridcolor\":\"white\",\"gridwidth\":2,\"linecolor\":\"white\",\"showbackground\":true,\"ticks\":\"\",\"zerolinecolor\":\"white\"},\"yaxis\":{\"backgroundcolor\":\"#E5ECF6\",\"gridcolor\":\"white\",\"gridwidth\":2,\"linecolor\":\"white\",\"showbackground\":true,\"ticks\":\"\",\"zerolinecolor\":\"white\"},\"zaxis\":{\"backgroundcolor\":\"#E5ECF6\",\"gridcolor\":\"white\",\"gridwidth\":2,\"linecolor\":\"white\",\"showbackground\":true,\"ticks\":\"\",\"zerolinecolor\":\"white\"}},\"shapedefaults\":{\"line\":{\"color\":\"#2a3f5f\"}},\"ternary\":{\"aaxis\":{\"gridcolor\":\"white\",\"linecolor\":\"white\",\"ticks\":\"\"},\"baxis\":{\"gridcolor\":\"white\",\"linecolor\":\"white\",\"ticks\":\"\"},\"bgcolor\":\"#E5ECF6\",\"caxis\":{\"gridcolor\":\"white\",\"linecolor\":\"white\",\"ticks\":\"\"}},\"title\":{\"x\":0.05},\"xaxis\":{\"automargin\":true,\"gridcolor\":\"white\",\"linecolor\":\"white\",\"ticks\":\"\",\"title\":{\"standoff\":15},\"zerolinecolor\":\"white\",\"zerolinewidth\":2},\"yaxis\":{\"automargin\":true,\"gridcolor\":\"white\",\"linecolor\":\"white\",\"ticks\":\"\",\"title\":{\"standoff\":15},\"zerolinecolor\":\"white\",\"zerolinewidth\":2}}},\"title\":{\"text\":\"Songs performance\",\"font\":{\"size\":25}},\"legend\":{\"font\":{\"size\":20}},\"font\":{\"size\":18},\"polar\":{\"radialaxis\":{\"visible\":true,\"range\":[0,150]}},\"autosize\":false,\"width\":1200,\"height\":1200,\"showlegend\":true},                        {\"responsive\": true}                    ).then(function(){\n",
              "                            \n",
              "var gd = document.getElementById('2bf68254-ff0b-4e73-b5cc-8c632766c55f');\n",
              "var x = new MutationObserver(function (mutations, observer) {{\n",
              "        var display = window.getComputedStyle(gd).display;\n",
              "        if (!display || display === 'none') {{\n",
              "            console.log([gd, 'removed!']);\n",
              "            Plotly.purge(gd);\n",
              "            observer.disconnect();\n",
              "        }}\n",
              "}});\n",
              "\n",
              "// Listen for the removal of the full notebook cells\n",
              "var notebookContainer = gd.closest('#notebook-container');\n",
              "if (notebookContainer) {{\n",
              "    x.observe(notebookContainer, {childList: true});\n",
              "}}\n",
              "\n",
              "// Listen for the clearing of the current output cell\n",
              "var outputEl = gd.closest('.output');\n",
              "if (outputEl) {{\n",
              "    x.observe(outputEl, {childList: true});\n",
              "}}\n",
              "\n",
              "                        })                };                            </script>        </div>\n",
              "</body>\n",
              "</html>"
            ]
          },
          "metadata": {}
        }
      ]
    },
    {
      "cell_type": "markdown",
      "source": [
        "**Finalmente obtendremos la tabla y matriz de correlación**"
      ],
      "metadata": {
        "id": "arEKX5aUq0t_"
      }
    },
    {
      "cell_type": "code",
      "source": [
        "df.corr()"
      ],
      "metadata": {
        "colab": {
          "base_uri": "https://localhost:8080/",
          "height": 394
        },
        "id": "i1180oHnsQ_2",
        "outputId": "2b92548c-3b65-4329-e3a5-d3c193055c27"
      },
      "execution_count": 14,
      "outputs": [
        {
          "output_type": "execute_result",
          "data": {
            "text/plain": [
              "                            Year  Beats Per Minute (BPM)    Energy  \\\n",
              "Year                    1.000000                0.012570  0.147235   \n",
              "Beats Per Minute (BPM)  0.012570                1.000000  0.156644   \n",
              "Energy                  0.147235                0.156644  1.000000   \n",
              "Danceability            0.077493               -0.140602  0.139616   \n",
              "Loudness (dB)           0.343764                0.092927  0.735711   \n",
              "Liveness                0.019017                0.016256  0.174118   \n",
              "Valence                -0.166163                0.059653  0.405175   \n",
              "Length (Duration)      -0.050346                0.006252  0.022800   \n",
              "Acousticness           -0.132946               -0.122472 -0.665156   \n",
              "Speechiness             0.054097                0.085598  0.205865   \n",
              "Popularity             -0.158962               -0.003181  0.103393   \n",
              "\n",
              "                        Danceability  Loudness (dB)  Liveness   Valence  \\\n",
              "Year                        0.077493       0.343764  0.019017 -0.166163   \n",
              "Beats Per Minute (BPM)     -0.140602       0.092927  0.016256  0.059653   \n",
              "Energy                      0.139616       0.735711  0.174118  0.405175   \n",
              "Danceability                1.000000       0.044235 -0.103063  0.514564   \n",
              "Loudness (dB)               0.044235       1.000000  0.098257  0.147041   \n",
              "Liveness                   -0.103063       0.098257  1.000000  0.050667   \n",
              "Valence                     0.514564       0.147041  0.050667  1.000000   \n",
              "Length (Duration)          -0.135432      -0.056127  0.032499 -0.203690   \n",
              "Acousticness               -0.135769      -0.451635 -0.046206 -0.239729   \n",
              "Speechiness                 0.125229       0.125090  0.092594  0.107102   \n",
              "Popularity                  0.144344       0.165527 -0.111978  0.095911   \n",
              "\n",
              "                        Length (Duration)  Acousticness  Speechiness  \\\n",
              "Year                            -0.050346     -0.132946     0.054097   \n",
              "Beats Per Minute (BPM)           0.006252     -0.122472     0.085598   \n",
              "Energy                           0.022800     -0.665156     0.205865   \n",
              "Danceability                    -0.135432     -0.135769     0.125229   \n",
              "Loudness (dB)                   -0.056127     -0.451635     0.125090   \n",
              "Liveness                         0.032499     -0.046206     0.092594   \n",
              "Valence                         -0.203690     -0.239729     0.107102   \n",
              "Length (Duration)                1.000000     -0.102319    -0.027826   \n",
              "Acousticness                    -0.102319      1.000000    -0.098256   \n",
              "Speechiness                     -0.027826     -0.098256     1.000000   \n",
              "Popularity                      -0.065403     -0.087604     0.111689   \n",
              "\n",
              "                        Popularity  \n",
              "Year                     -0.158962  \n",
              "Beats Per Minute (BPM)   -0.003181  \n",
              "Energy                    0.103393  \n",
              "Danceability              0.144344  \n",
              "Loudness (dB)             0.165527  \n",
              "Liveness                 -0.111978  \n",
              "Valence                   0.095911  \n",
              "Length (Duration)        -0.065403  \n",
              "Acousticness             -0.087604  \n",
              "Speechiness               0.111689  \n",
              "Popularity                1.000000  "
            ],
            "text/html": [
              "\n",
              "  <div id=\"df-5d35551d-f9c0-4c1d-9266-81bf720cd672\">\n",
              "    <div class=\"colab-df-container\">\n",
              "      <div>\n",
              "<style scoped>\n",
              "    .dataframe tbody tr th:only-of-type {\n",
              "        vertical-align: middle;\n",
              "    }\n",
              "\n",
              "    .dataframe tbody tr th {\n",
              "        vertical-align: top;\n",
              "    }\n",
              "\n",
              "    .dataframe thead th {\n",
              "        text-align: right;\n",
              "    }\n",
              "</style>\n",
              "<table border=\"1\" class=\"dataframe\">\n",
              "  <thead>\n",
              "    <tr style=\"text-align: right;\">\n",
              "      <th></th>\n",
              "      <th>Year</th>\n",
              "      <th>Beats Per Minute (BPM)</th>\n",
              "      <th>Energy</th>\n",
              "      <th>Danceability</th>\n",
              "      <th>Loudness (dB)</th>\n",
              "      <th>Liveness</th>\n",
              "      <th>Valence</th>\n",
              "      <th>Length (Duration)</th>\n",
              "      <th>Acousticness</th>\n",
              "      <th>Speechiness</th>\n",
              "      <th>Popularity</th>\n",
              "    </tr>\n",
              "  </thead>\n",
              "  <tbody>\n",
              "    <tr>\n",
              "      <th>Year</th>\n",
              "      <td>1.000000</td>\n",
              "      <td>0.012570</td>\n",
              "      <td>0.147235</td>\n",
              "      <td>0.077493</td>\n",
              "      <td>0.343764</td>\n",
              "      <td>0.019017</td>\n",
              "      <td>-0.166163</td>\n",
              "      <td>-0.050346</td>\n",
              "      <td>-0.132946</td>\n",
              "      <td>0.054097</td>\n",
              "      <td>-0.158962</td>\n",
              "    </tr>\n",
              "    <tr>\n",
              "      <th>Beats Per Minute (BPM)</th>\n",
              "      <td>0.012570</td>\n",
              "      <td>1.000000</td>\n",
              "      <td>0.156644</td>\n",
              "      <td>-0.140602</td>\n",
              "      <td>0.092927</td>\n",
              "      <td>0.016256</td>\n",
              "      <td>0.059653</td>\n",
              "      <td>0.006252</td>\n",
              "      <td>-0.122472</td>\n",
              "      <td>0.085598</td>\n",
              "      <td>-0.003181</td>\n",
              "    </tr>\n",
              "    <tr>\n",
              "      <th>Energy</th>\n",
              "      <td>0.147235</td>\n",
              "      <td>0.156644</td>\n",
              "      <td>1.000000</td>\n",
              "      <td>0.139616</td>\n",
              "      <td>0.735711</td>\n",
              "      <td>0.174118</td>\n",
              "      <td>0.405175</td>\n",
              "      <td>0.022800</td>\n",
              "      <td>-0.665156</td>\n",
              "      <td>0.205865</td>\n",
              "      <td>0.103393</td>\n",
              "    </tr>\n",
              "    <tr>\n",
              "      <th>Danceability</th>\n",
              "      <td>0.077493</td>\n",
              "      <td>-0.140602</td>\n",
              "      <td>0.139616</td>\n",
              "      <td>1.000000</td>\n",
              "      <td>0.044235</td>\n",
              "      <td>-0.103063</td>\n",
              "      <td>0.514564</td>\n",
              "      <td>-0.135432</td>\n",
              "      <td>-0.135769</td>\n",
              "      <td>0.125229</td>\n",
              "      <td>0.144344</td>\n",
              "    </tr>\n",
              "    <tr>\n",
              "      <th>Loudness (dB)</th>\n",
              "      <td>0.343764</td>\n",
              "      <td>0.092927</td>\n",
              "      <td>0.735711</td>\n",
              "      <td>0.044235</td>\n",
              "      <td>1.000000</td>\n",
              "      <td>0.098257</td>\n",
              "      <td>0.147041</td>\n",
              "      <td>-0.056127</td>\n",
              "      <td>-0.451635</td>\n",
              "      <td>0.125090</td>\n",
              "      <td>0.165527</td>\n",
              "    </tr>\n",
              "    <tr>\n",
              "      <th>Liveness</th>\n",
              "      <td>0.019017</td>\n",
              "      <td>0.016256</td>\n",
              "      <td>0.174118</td>\n",
              "      <td>-0.103063</td>\n",
              "      <td>0.098257</td>\n",
              "      <td>1.000000</td>\n",
              "      <td>0.050667</td>\n",
              "      <td>0.032499</td>\n",
              "      <td>-0.046206</td>\n",
              "      <td>0.092594</td>\n",
              "      <td>-0.111978</td>\n",
              "    </tr>\n",
              "    <tr>\n",
              "      <th>Valence</th>\n",
              "      <td>-0.166163</td>\n",
              "      <td>0.059653</td>\n",
              "      <td>0.405175</td>\n",
              "      <td>0.514564</td>\n",
              "      <td>0.147041</td>\n",
              "      <td>0.050667</td>\n",
              "      <td>1.000000</td>\n",
              "      <td>-0.203690</td>\n",
              "      <td>-0.239729</td>\n",
              "      <td>0.107102</td>\n",
              "      <td>0.095911</td>\n",
              "    </tr>\n",
              "    <tr>\n",
              "      <th>Length (Duration)</th>\n",
              "      <td>-0.050346</td>\n",
              "      <td>0.006252</td>\n",
              "      <td>0.022800</td>\n",
              "      <td>-0.135432</td>\n",
              "      <td>-0.056127</td>\n",
              "      <td>0.032499</td>\n",
              "      <td>-0.203690</td>\n",
              "      <td>1.000000</td>\n",
              "      <td>-0.102319</td>\n",
              "      <td>-0.027826</td>\n",
              "      <td>-0.065403</td>\n",
              "    </tr>\n",
              "    <tr>\n",
              "      <th>Acousticness</th>\n",
              "      <td>-0.132946</td>\n",
              "      <td>-0.122472</td>\n",
              "      <td>-0.665156</td>\n",
              "      <td>-0.135769</td>\n",
              "      <td>-0.451635</td>\n",
              "      <td>-0.046206</td>\n",
              "      <td>-0.239729</td>\n",
              "      <td>-0.102319</td>\n",
              "      <td>1.000000</td>\n",
              "      <td>-0.098256</td>\n",
              "      <td>-0.087604</td>\n",
              "    </tr>\n",
              "    <tr>\n",
              "      <th>Speechiness</th>\n",
              "      <td>0.054097</td>\n",
              "      <td>0.085598</td>\n",
              "      <td>0.205865</td>\n",
              "      <td>0.125229</td>\n",
              "      <td>0.125090</td>\n",
              "      <td>0.092594</td>\n",
              "      <td>0.107102</td>\n",
              "      <td>-0.027826</td>\n",
              "      <td>-0.098256</td>\n",
              "      <td>1.000000</td>\n",
              "      <td>0.111689</td>\n",
              "    </tr>\n",
              "    <tr>\n",
              "      <th>Popularity</th>\n",
              "      <td>-0.158962</td>\n",
              "      <td>-0.003181</td>\n",
              "      <td>0.103393</td>\n",
              "      <td>0.144344</td>\n",
              "      <td>0.165527</td>\n",
              "      <td>-0.111978</td>\n",
              "      <td>0.095911</td>\n",
              "      <td>-0.065403</td>\n",
              "      <td>-0.087604</td>\n",
              "      <td>0.111689</td>\n",
              "      <td>1.000000</td>\n",
              "    </tr>\n",
              "  </tbody>\n",
              "</table>\n",
              "</div>\n",
              "      <button class=\"colab-df-convert\" onclick=\"convertToInteractive('df-5d35551d-f9c0-4c1d-9266-81bf720cd672')\"\n",
              "              title=\"Convert this dataframe to an interactive table.\"\n",
              "              style=\"display:none;\">\n",
              "        \n",
              "  <svg xmlns=\"http://www.w3.org/2000/svg\" height=\"24px\"viewBox=\"0 0 24 24\"\n",
              "       width=\"24px\">\n",
              "    <path d=\"M0 0h24v24H0V0z\" fill=\"none\"/>\n",
              "    <path d=\"M18.56 5.44l.94 2.06.94-2.06 2.06-.94-2.06-.94-.94-2.06-.94 2.06-2.06.94zm-11 1L8.5 8.5l.94-2.06 2.06-.94-2.06-.94L8.5 2.5l-.94 2.06-2.06.94zm10 10l.94 2.06.94-2.06 2.06-.94-2.06-.94-.94-2.06-.94 2.06-2.06.94z\"/><path d=\"M17.41 7.96l-1.37-1.37c-.4-.4-.92-.59-1.43-.59-.52 0-1.04.2-1.43.59L10.3 9.45l-7.72 7.72c-.78.78-.78 2.05 0 2.83L4 21.41c.39.39.9.59 1.41.59.51 0 1.02-.2 1.41-.59l7.78-7.78 2.81-2.81c.8-.78.8-2.07 0-2.86zM5.41 20L4 18.59l7.72-7.72 1.47 1.35L5.41 20z\"/>\n",
              "  </svg>\n",
              "      </button>\n",
              "      \n",
              "  <style>\n",
              "    .colab-df-container {\n",
              "      display:flex;\n",
              "      flex-wrap:wrap;\n",
              "      gap: 12px;\n",
              "    }\n",
              "\n",
              "    .colab-df-convert {\n",
              "      background-color: #E8F0FE;\n",
              "      border: none;\n",
              "      border-radius: 50%;\n",
              "      cursor: pointer;\n",
              "      display: none;\n",
              "      fill: #1967D2;\n",
              "      height: 32px;\n",
              "      padding: 0 0 0 0;\n",
              "      width: 32px;\n",
              "    }\n",
              "\n",
              "    .colab-df-convert:hover {\n",
              "      background-color: #E2EBFA;\n",
              "      box-shadow: 0px 1px 2px rgba(60, 64, 67, 0.3), 0px 1px 3px 1px rgba(60, 64, 67, 0.15);\n",
              "      fill: #174EA6;\n",
              "    }\n",
              "\n",
              "    [theme=dark] .colab-df-convert {\n",
              "      background-color: #3B4455;\n",
              "      fill: #D2E3FC;\n",
              "    }\n",
              "\n",
              "    [theme=dark] .colab-df-convert:hover {\n",
              "      background-color: #434B5C;\n",
              "      box-shadow: 0px 1px 3px 1px rgba(0, 0, 0, 0.15);\n",
              "      filter: drop-shadow(0px 1px 2px rgba(0, 0, 0, 0.3));\n",
              "      fill: #FFFFFF;\n",
              "    }\n",
              "  </style>\n",
              "\n",
              "      <script>\n",
              "        const buttonEl =\n",
              "          document.querySelector('#df-5d35551d-f9c0-4c1d-9266-81bf720cd672 button.colab-df-convert');\n",
              "        buttonEl.style.display =\n",
              "          google.colab.kernel.accessAllowed ? 'block' : 'none';\n",
              "\n",
              "        async function convertToInteractive(key) {\n",
              "          const element = document.querySelector('#df-5d35551d-f9c0-4c1d-9266-81bf720cd672');\n",
              "          const dataTable =\n",
              "            await google.colab.kernel.invokeFunction('convertToInteractive',\n",
              "                                                     [key], {});\n",
              "          if (!dataTable) return;\n",
              "\n",
              "          const docLinkHtml = 'Like what you see? Visit the ' +\n",
              "            '<a target=\"_blank\" href=https://colab.research.google.com/notebooks/data_table.ipynb>data table notebook</a>'\n",
              "            + ' to learn more about interactive tables.';\n",
              "          element.innerHTML = '';\n",
              "          dataTable['output_type'] = 'display_data';\n",
              "          await google.colab.output.renderOutput(dataTable, element);\n",
              "          const docLink = document.createElement('div');\n",
              "          docLink.innerHTML = docLinkHtml;\n",
              "          element.appendChild(docLink);\n",
              "        }\n",
              "      </script>\n",
              "    </div>\n",
              "  </div>\n",
              "  "
            ]
          },
          "metadata": {},
          "execution_count": 14
        }
      ]
    },
    {
      "cell_type": "code",
      "source": [
        "mask = np.zeros_like(df.corr(), dtype=np.bool)\n",
        "mask[np.triu_indices_from(mask)] = True\n",
        "plt.subplots(figsize=(20, 10))\n",
        "cmap = sns.diverging_palette(255, 6, as_cmap=True)\n",
        "\n",
        "figure = sns.heatmap(df.corr(), mask=mask, cmap=cmap,\n",
        "                     center=0, linewidths=0.5,\n",
        "                     annot=True, fmt='.2f'\n",
        "                     );"
      ],
      "metadata": {
        "id": "GZ52-i2nsUeM",
        "colab": {
          "base_uri": "https://localhost:8080/",
          "height": 664
        },
        "outputId": "75654c4d-2cbb-4252-e147-68fd55fe7be7"
      },
      "execution_count": 16,
      "outputs": [
        {
          "output_type": "stream",
          "name": "stderr",
          "text": [
            "/usr/local/lib/python3.7/dist-packages/ipykernel_launcher.py:1: DeprecationWarning: `np.bool` is a deprecated alias for the builtin `bool`. To silence this warning, use `bool` by itself. Doing this will not modify any behavior and is safe. If you specifically wanted the numpy scalar type, use `np.bool_` here.\n",
            "Deprecated in NumPy 1.20; for more details and guidance: https://numpy.org/devdocs/release/1.20.0-notes.html#deprecations\n",
            "  \"\"\"Entry point for launching an IPython kernel.\n"
          ]
        },
        {
          "output_type": "display_data",
          "data": {
            "text/plain": [
              "<Figure size 1440x720 with 2 Axes>"
            ],
            "image/png": "[encoded data removed]"
          },
          "metadata": {
            "needs_background": "light"
          }
        }
      ]
    },
    {
      "cell_type": "markdown",
      "source": [
        "## Fuentes"
      ],
      "metadata": {
        "id": "QcexDwPqTym5"
      }
    },
    {
      "cell_type": "markdown",
      "source": [
        "https://themusicnetwork.com/music-streaming-market-diversifies/\n",
        "\n",
        "https://www.midiaresearch.com/blog/music-subscriber-market-shares-q2-2021\n",
        "\n",
        "https://www.statista.com/statistics/653926/music-streaming-service-subscriber-share/\n",
        "\n",
        "https://kommandotech.com/statistics/spotify-user-statistics/\n",
        "\n",
        "https://www.kaggle.com/datasets/iamsumat/spotify-top-2000s-mega-dataset"
      ],
      "metadata": {
        "id": "8u_RFIjurVhk"
      }
    },
    {
      "cell_type": "code",
      "source": [],
      "metadata": {
        "id": "JdHFr03erz9n"
      },
      "execution_count": null,
      "outputs": []
    }
  ]
}